{
  "nbformat": 4,
  "nbformat_minor": 0,
  "metadata": {
    "colab": {
      "name": "AllDataSets.ipynb",
      "provenance": [],
      "collapsed_sections": [
        "10Q4C9D1TtT6",
        "q2DUzfTBVGDh",
        "LftfGaf7VxA5",
        "IC8WTXSKWG4Y"
      ],
      "toc_visible": true,
      "include_colab_link": true
    },
    "kernelspec": {
      "name": "python3",
      "display_name": "Python 3"
    },
    "accelerator": "GPU"
  },
  "cells": [
    {
      "cell_type": "markdown",
      "metadata": {
        "id": "view-in-github",
        "colab_type": "text"
      },
      "source": [
        "<a href=\"https://colab.research.google.com/github/Alymostafa/Nlp_task/blob/main/Classification_Model.ipynb\" target=\"_parent\"><img src=\"https://colab.research.google.com/assets/colab-badge.svg\" alt=\"Open In Colab\"/></a>"
      ]
    },
    {
      "cell_type": "markdown",
      "metadata": {
        "id": "q2DUzfTBVGDh"
      },
      "source": [
        "##Library's Imports"
      ]
    },
    {
      "cell_type": "code",
      "metadata": {
        "id": "5KQyzsfVTSu7",
        "outputId": "88164a5c-67fc-4fc7-cd66-8bd375315781",
        "colab": {
          "base_uri": "https://localhost:8080/",
          "height": 217
        }
      },
      "source": [
        "from sklearn.linear_model import SGDClassifier\n",
        "from sklearn.svm import SVC\n",
        "from sklearn import metrics\n",
        "from pprint import pprint\n",
        "from sklearn.preprocessing import MultiLabelBinarizer\n",
        "import tensorflow as tf\n",
        "import tensorflow_hub as hub\n",
        "import numpy as np\n",
        "import os, sys\n",
        "import pandas as pd \n",
        "from sklearn.metrics.pairwise import cosine_similarity\n",
        "from collections import defaultdict\n",
        "from nltk.stem import WordNetLemmatizer\n",
        "from nltk.corpus import names\n",
        "import nltk\n",
        "nltk.download('names')\n",
        "nltk.download('wordnet')\n",
        "nltk.download('stopwords')\n",
        "from nltk import word_tokenize\n",
        "from nltk.stem.porter import PorterStemmer\n",
        "from nltk.corpus import stopwords\n",
        "import re \n",
        "from nltk.corpus import stopwords\n",
        "import pandas as pd\n",
        "import os\n",
        "import numpy as np\n",
        "from sklearn.model_selection import train_test_split\n",
        "from nltk.corpus import stopwords \n",
        "from nltk.tokenize import word_tokenize \n",
        "import nltk\n",
        "nltk.download('stopwords')\n",
        "stop_words = set(stopwords.words('english')) \n",
        "#from sklearn.datasets import fetch_rcv1\n",
        "import nltk\n",
        "nltk.download('punkt')"
      ],
      "execution_count": 1,
      "outputs": [
        {
          "output_type": "stream",
          "text": [
            "[nltk_data] Downloading package names to /root/nltk_data...\n",
            "[nltk_data]   Package names is already up-to-date!\n",
            "[nltk_data] Downloading package wordnet to /root/nltk_data...\n",
            "[nltk_data]   Package wordnet is already up-to-date!\n",
            "[nltk_data] Downloading package stopwords to /root/nltk_data...\n",
            "[nltk_data]   Package stopwords is already up-to-date!\n",
            "[nltk_data] Downloading package stopwords to /root/nltk_data...\n",
            "[nltk_data]   Package stopwords is already up-to-date!\n",
            "[nltk_data] Downloading package punkt to /root/nltk_data...\n",
            "[nltk_data]   Package punkt is already up-to-date!\n"
          ],
          "name": "stdout"
        },
        {
          "output_type": "execute_result",
          "data": {
            "text/plain": [
              "True"
            ]
          },
          "metadata": {
            "tags": []
          },
          "execution_count": 1
        }
      ]
    },
    {
      "cell_type": "code",
      "metadata": {
        "id": "_dncRcuYn2YS"
      },
      "source": [
        "achedStopWords = stopwords.words(\"english\")\n",
        " \n",
        "def tokenize(text):\n",
        "  min_length = 3\n",
        "  words = map(lambda word: word.lower(), word_tokenize(text))\n",
        "  words = [word for word in words if word not in achedStopWords]\n",
        "  tokens = (list(map(lambda token: PorterStemmer().stem(token),\n",
        "                                   words)))\n",
        "  p = re.compile('[a-zA-Z]+');\n",
        "  filtered_tokens =list(filter (lambda token: p.match(token) and\n",
        "                               len(token) >= min_length,\n",
        "                               tokens))\n",
        "  return filtered_tokens\n",
        "\n",
        "def word_tokenizer():\n",
        "  tokenize_docs = []\n",
        "  docs_tokens = docs_pdf_train['text'].tolist()\n",
        "  length = len(docs_tokens)\n",
        "  for i in range(length):\n",
        "    tokenize_docs.append(tokenize(docs_tokens[i]))\n",
        "  return tokenize_docs"
      ],
      "execution_count": 2,
      "outputs": []
    },
    {
      "cell_type": "code",
      "metadata": {
        "id": "d5v3uYAsgKhg",
        "outputId": "5c9d664c-8c84-467d-9dc6-ee00a86a688d",
        "colab": {
          "base_uri": "https://localhost:8080/",
          "height": 983
        }
      },
      "source": [
        "!pip install 'kashgari>=2.0.0'\t"
      ],
      "execution_count": 3,
      "outputs": [
        {
          "output_type": "stream",
          "text": [
            "Requirement already satisfied: kashgari>=2.0.0 in /usr/local/lib/python3.6/dist-packages (2.0.0)\n",
            "Requirement already satisfied: tensorflow-addons in /usr/local/lib/python3.6/dist-packages (from kashgari>=2.0.0) (0.8.3)\n",
            "Requirement already satisfied: numpy>=1.18.1 in /usr/local/lib/python3.6/dist-packages (from kashgari>=2.0.0) (1.18.5)\n",
            "Requirement already satisfied: bert4keras>=0.7.9 in /usr/local/lib/python3.6/dist-packages (from kashgari>=2.0.0) (0.8.8)\n",
            "Requirement already satisfied: tensorflow>=2.1.0 in /usr/local/lib/python3.6/dist-packages (from kashgari>=2.0.0) (2.3.0)\n",
            "Requirement already satisfied: tqdm in /usr/local/lib/python3.6/dist-packages (from kashgari>=2.0.0) (4.41.1)\n",
            "Requirement already satisfied: gensim>=3.8.1 in /usr/local/lib/python3.6/dist-packages (from kashgari>=2.0.0) (3.8.3)\n",
            "Requirement already satisfied: pandas>=1.0.1 in /usr/local/lib/python3.6/dist-packages (from kashgari>=2.0.0) (1.1.2)\n",
            "Requirement already satisfied: scikit-learn>=0.21.1 in /usr/local/lib/python3.6/dist-packages (from kashgari>=2.0.0) (0.22.2.post1)\n",
            "Requirement already satisfied: typeguard in /usr/local/lib/python3.6/dist-packages (from tensorflow-addons->kashgari>=2.0.0) (2.7.1)\n",
            "Requirement already satisfied: keras<=2.3.1 in /usr/local/lib/python3.6/dist-packages (from bert4keras>=0.7.9->kashgari>=2.0.0) (2.3.1)\n",
            "Requirement already satisfied: gast==0.3.3 in /usr/local/lib/python3.6/dist-packages (from tensorflow>=2.1.0->kashgari>=2.0.0) (0.3.3)\n",
            "Requirement already satisfied: keras-preprocessing<1.2,>=1.1.1 in /usr/local/lib/python3.6/dist-packages (from tensorflow>=2.1.0->kashgari>=2.0.0) (1.1.2)\n",
            "Requirement already satisfied: opt-einsum>=2.3.2 in /usr/local/lib/python3.6/dist-packages (from tensorflow>=2.1.0->kashgari>=2.0.0) (3.3.0)\n",
            "Requirement already satisfied: termcolor>=1.1.0 in /usr/local/lib/python3.6/dist-packages (from tensorflow>=2.1.0->kashgari>=2.0.0) (1.1.0)\n",
            "Requirement already satisfied: scipy==1.4.1 in /usr/local/lib/python3.6/dist-packages (from tensorflow>=2.1.0->kashgari>=2.0.0) (1.4.1)\n",
            "Requirement already satisfied: grpcio>=1.8.6 in /usr/local/lib/python3.6/dist-packages (from tensorflow>=2.1.0->kashgari>=2.0.0) (1.32.0)\n",
            "Requirement already satisfied: wheel>=0.26 in /usr/local/lib/python3.6/dist-packages (from tensorflow>=2.1.0->kashgari>=2.0.0) (0.35.1)\n",
            "Requirement already satisfied: absl-py>=0.7.0 in /usr/local/lib/python3.6/dist-packages (from tensorflow>=2.1.0->kashgari>=2.0.0) (0.10.0)\n",
            "Requirement already satisfied: astunparse==1.6.3 in /usr/local/lib/python3.6/dist-packages (from tensorflow>=2.1.0->kashgari>=2.0.0) (1.6.3)\n",
            "Requirement already satisfied: protobuf>=3.9.2 in /usr/local/lib/python3.6/dist-packages (from tensorflow>=2.1.0->kashgari>=2.0.0) (3.12.4)\n",
            "Requirement already satisfied: wrapt>=1.11.1 in /usr/local/lib/python3.6/dist-packages (from tensorflow>=2.1.0->kashgari>=2.0.0) (1.12.1)\n",
            "Requirement already satisfied: tensorboard<3,>=2.3.0 in /usr/local/lib/python3.6/dist-packages (from tensorflow>=2.1.0->kashgari>=2.0.0) (2.3.0)\n",
            "Requirement already satisfied: google-pasta>=0.1.8 in /usr/local/lib/python3.6/dist-packages (from tensorflow>=2.1.0->kashgari>=2.0.0) (0.2.0)\n",
            "Requirement already satisfied: tensorflow-estimator<2.4.0,>=2.3.0 in /usr/local/lib/python3.6/dist-packages (from tensorflow>=2.1.0->kashgari>=2.0.0) (2.3.0)\n",
            "Requirement already satisfied: six>=1.12.0 in /usr/local/lib/python3.6/dist-packages (from tensorflow>=2.1.0->kashgari>=2.0.0) (1.15.0)\n",
            "Requirement already satisfied: h5py<2.11.0,>=2.10.0 in /usr/local/lib/python3.6/dist-packages (from tensorflow>=2.1.0->kashgari>=2.0.0) (2.10.0)\n",
            "Requirement already satisfied: smart-open>=1.8.1 in /usr/local/lib/python3.6/dist-packages (from gensim>=3.8.1->kashgari>=2.0.0) (2.2.0)\n",
            "Requirement already satisfied: pytz>=2017.2 in /usr/local/lib/python3.6/dist-packages (from pandas>=1.0.1->kashgari>=2.0.0) (2018.9)\n",
            "Requirement already satisfied: python-dateutil>=2.7.3 in /usr/local/lib/python3.6/dist-packages (from pandas>=1.0.1->kashgari>=2.0.0) (2.8.1)\n",
            "Requirement already satisfied: joblib>=0.11 in /usr/local/lib/python3.6/dist-packages (from scikit-learn>=0.21.1->kashgari>=2.0.0) (0.16.0)\n",
            "Requirement already satisfied: pyyaml in /usr/local/lib/python3.6/dist-packages (from keras<=2.3.1->bert4keras>=0.7.9->kashgari>=2.0.0) (3.13)\n",
            "Requirement already satisfied: keras-applications>=1.0.6 in /usr/local/lib/python3.6/dist-packages (from keras<=2.3.1->bert4keras>=0.7.9->kashgari>=2.0.0) (1.0.8)\n",
            "Requirement already satisfied: setuptools in /usr/local/lib/python3.6/dist-packages (from protobuf>=3.9.2->tensorflow>=2.1.0->kashgari>=2.0.0) (50.3.0)\n",
            "Requirement already satisfied: werkzeug>=0.11.15 in /usr/local/lib/python3.6/dist-packages (from tensorboard<3,>=2.3.0->tensorflow>=2.1.0->kashgari>=2.0.0) (1.0.1)\n",
            "Requirement already satisfied: tensorboard-plugin-wit>=1.6.0 in /usr/local/lib/python3.6/dist-packages (from tensorboard<3,>=2.3.0->tensorflow>=2.1.0->kashgari>=2.0.0) (1.7.0)\n",
            "Requirement already satisfied: markdown>=2.6.8 in /usr/local/lib/python3.6/dist-packages (from tensorboard<3,>=2.3.0->tensorflow>=2.1.0->kashgari>=2.0.0) (3.2.2)\n",
            "Requirement already satisfied: requests<3,>=2.21.0 in /usr/local/lib/python3.6/dist-packages (from tensorboard<3,>=2.3.0->tensorflow>=2.1.0->kashgari>=2.0.0) (2.23.0)\n",
            "Requirement already satisfied: google-auth-oauthlib<0.5,>=0.4.1 in /usr/local/lib/python3.6/dist-packages (from tensorboard<3,>=2.3.0->tensorflow>=2.1.0->kashgari>=2.0.0) (0.4.1)\n",
            "Requirement already satisfied: google-auth<2,>=1.6.3 in /usr/local/lib/python3.6/dist-packages (from tensorboard<3,>=2.3.0->tensorflow>=2.1.0->kashgari>=2.0.0) (1.17.2)\n",
            "Requirement already satisfied: importlib-metadata; python_version < \"3.8\" in /usr/local/lib/python3.6/dist-packages (from markdown>=2.6.8->tensorboard<3,>=2.3.0->tensorflow>=2.1.0->kashgari>=2.0.0) (2.0.0)\n",
            "Requirement already satisfied: idna<3,>=2.5 in /usr/local/lib/python3.6/dist-packages (from requests<3,>=2.21.0->tensorboard<3,>=2.3.0->tensorflow>=2.1.0->kashgari>=2.0.0) (2.10)\n",
            "Requirement already satisfied: certifi>=2017.4.17 in /usr/local/lib/python3.6/dist-packages (from requests<3,>=2.21.0->tensorboard<3,>=2.3.0->tensorflow>=2.1.0->kashgari>=2.0.0) (2020.6.20)\n",
            "Requirement already satisfied: chardet<4,>=3.0.2 in /usr/local/lib/python3.6/dist-packages (from requests<3,>=2.21.0->tensorboard<3,>=2.3.0->tensorflow>=2.1.0->kashgari>=2.0.0) (3.0.4)\n",
            "Requirement already satisfied: urllib3!=1.25.0,!=1.25.1,<1.26,>=1.21.1 in /usr/local/lib/python3.6/dist-packages (from requests<3,>=2.21.0->tensorboard<3,>=2.3.0->tensorflow>=2.1.0->kashgari>=2.0.0) (1.24.3)\n",
            "Requirement already satisfied: requests-oauthlib>=0.7.0 in /usr/local/lib/python3.6/dist-packages (from google-auth-oauthlib<0.5,>=0.4.1->tensorboard<3,>=2.3.0->tensorflow>=2.1.0->kashgari>=2.0.0) (1.3.0)\n",
            "Requirement already satisfied: cachetools<5.0,>=2.0.0 in /usr/local/lib/python3.6/dist-packages (from google-auth<2,>=1.6.3->tensorboard<3,>=2.3.0->tensorflow>=2.1.0->kashgari>=2.0.0) (4.1.1)\n",
            "Requirement already satisfied: rsa<5,>=3.1.4; python_version >= \"3\" in /usr/local/lib/python3.6/dist-packages (from google-auth<2,>=1.6.3->tensorboard<3,>=2.3.0->tensorflow>=2.1.0->kashgari>=2.0.0) (4.6)\n",
            "Requirement already satisfied: pyasn1-modules>=0.2.1 in /usr/local/lib/python3.6/dist-packages (from google-auth<2,>=1.6.3->tensorboard<3,>=2.3.0->tensorflow>=2.1.0->kashgari>=2.0.0) (0.2.8)\n",
            "Requirement already satisfied: zipp>=0.5 in /usr/local/lib/python3.6/dist-packages (from importlib-metadata; python_version < \"3.8\"->markdown>=2.6.8->tensorboard<3,>=2.3.0->tensorflow>=2.1.0->kashgari>=2.0.0) (3.2.0)\n",
            "Requirement already satisfied: oauthlib>=3.0.0 in /usr/local/lib/python3.6/dist-packages (from requests-oauthlib>=0.7.0->google-auth-oauthlib<0.5,>=0.4.1->tensorboard<3,>=2.3.0->tensorflow>=2.1.0->kashgari>=2.0.0) (3.1.0)\n",
            "Requirement already satisfied: pyasn1>=0.1.3 in /usr/local/lib/python3.6/dist-packages (from rsa<5,>=3.1.4; python_version >= \"3\"->google-auth<2,>=1.6.3->tensorboard<3,>=2.3.0->tensorflow>=2.1.0->kashgari>=2.0.0) (0.4.8)\n"
          ],
          "name": "stdout"
        }
      ]
    },
    {
      "cell_type": "markdown",
      "metadata": {
        "id": "I-tYazqJmWfx"
      },
      "source": [
        "## Bert's Import"
      ]
    },
    {
      "cell_type": "code",
      "metadata": {
        "id": "ypzt10uwf-PA"
      },
      "source": [
        "import logging\n",
        "from kashgari.embeddings import BertEmbedding\n",
        "from kashgari.tasks.classification import BiLSTM_Model"
      ],
      "execution_count": 4,
      "outputs": []
    },
    {
      "cell_type": "code",
      "metadata": {
        "id": "lSVnaPskgF9U"
      },
      "source": [
        "logging.basicConfig(level='DEBUG')"
      ],
      "execution_count": 5,
      "outputs": []
    },
    {
      "cell_type": "code",
      "metadata": {
        "id": "EjsemvPngPWn",
        "outputId": "0d39fc57-9629-4f85-be60-f584cb17dec1",
        "colab": {
          "base_uri": "https://localhost:8080/",
          "height": 217
        }
      },
      "source": [
        "!wget https://storage.googleapis.com/bert_models/2018_10_18/uncased_L-12_H-768_A-12.zip"
      ],
      "execution_count": 6,
      "outputs": [
        {
          "output_type": "stream",
          "text": [
            "--2020-10-14 15:18:34--  https://storage.googleapis.com/bert_models/2018_10_18/uncased_L-12_H-768_A-12.zip\n",
            "Resolving storage.googleapis.com (storage.googleapis.com)... 74.125.195.128, 74.125.142.128, 74.125.20.128, ...\n",
            "Connecting to storage.googleapis.com (storage.googleapis.com)|74.125.195.128|:443... connected.\n",
            "HTTP request sent, awaiting response... 200 OK\n",
            "Length: 407727028 (389M) [application/zip]\n",
            "Saving to: ‘uncased_L-12_H-768_A-12.zip.1’\n",
            "\n",
            "uncased_L-12_H-768_ 100%[===================>] 388.84M   195MB/s    in 2.0s    \n",
            "\n",
            "2020-10-14 15:18:36 (195 MB/s) - ‘uncased_L-12_H-768_A-12.zip.1’ saved [407727028/407727028]\n",
            "\n"
          ],
          "name": "stdout"
        }
      ]
    },
    {
      "cell_type": "code",
      "metadata": {
        "id": "1NeVZMiSgSBB",
        "outputId": "a3941a1a-bfe6-470a-d514-caa7c4581bc1",
        "colab": {
          "base_uri": "https://localhost:8080/",
          "height": 163
        }
      },
      "source": [
        "!unzip '/content/uncased_L-12_H-768_A-12.zip'"
      ],
      "execution_count": 7,
      "outputs": [
        {
          "output_type": "stream",
          "text": [
            "Archive:  /content/uncased_L-12_H-768_A-12.zip\n",
            "replace uncased_L-12_H-768_A-12/bert_model.ckpt.meta? [y]es, [n]o, [A]ll, [N]one, [r]ename: y\n",
            "  inflating: uncased_L-12_H-768_A-12/bert_model.ckpt.meta  \n",
            "replace uncased_L-12_H-768_A-12/bert_model.ckpt.data-00000-of-00001? [y]es, [n]o, [A]ll, [N]one, [r]ename: A\n",
            "  inflating: uncased_L-12_H-768_A-12/bert_model.ckpt.data-00000-of-00001  \n",
            "  inflating: uncased_L-12_H-768_A-12/vocab.txt  \n",
            "  inflating: uncased_L-12_H-768_A-12/bert_model.ckpt.index  \n",
            "  inflating: uncased_L-12_H-768_A-12/bert_config.json  \n"
          ],
          "name": "stdout"
        }
      ]
    },
    {
      "cell_type": "code",
      "metadata": {
        "id": "TVabElOcgTp4",
        "outputId": "99193f31-2619-4687-ffea-4fb4d8aa1332",
        "colab": {
          "base_uri": "https://localhost:8080/",
          "height": 165
        }
      },
      "source": [
        "bert_embed = BertEmbedding('/content/uncased_L-12_H-768_A-12')"
      ],
      "execution_count": 8,
      "outputs": [
        {
          "output_type": "stream",
          "text": [
            "2020-10-14 15:19:22,290 [DEBUG] kashgari - ------------------------------------------------\n",
            "2020-10-14 15:19:22,291 [DEBUG] kashgari - Loaded transformer model's vocab\n",
            "2020-10-14 15:19:22,292 [DEBUG] kashgari - config_path       : /content/uncased_L-12_H-768_A-12/bert_config.json\n",
            "2020-10-14 15:19:22,293 [DEBUG] kashgari - vocab_path      : /content/uncased_L-12_H-768_A-12/vocab.txt\n",
            "2020-10-14 15:19:22,293 [DEBUG] kashgari - checkpoint_path : /content/uncased_L-12_H-768_A-12/bert_model.ckpt\n",
            "2020-10-14 15:19:22,294 [DEBUG] kashgari - Top 50 words    : ['[PAD]', '[unused0]', '[unused1]', '[unused2]', '[unused3]', '[unused4]', '[unused5]', '[unused6]', '[unused7]', '[unused8]', '[unused9]', '[unused10]', '[unused11]', '[unused12]', '[unused13]', '[unused14]', '[unused15]', '[unused16]', '[unused17]', '[unused18]', '[unused19]', '[unused20]', '[unused21]', '[unused22]', '[unused23]', '[unused24]', '[unused25]', '[unused26]', '[unused27]', '[unused28]', '[unused29]', '[unused30]', '[unused31]', '[unused32]', '[unused33]', '[unused34]', '[unused35]', '[unused36]', '[unused37]', '[unused38]', '[unused39]', '[unused40]', '[unused41]', '[unused42]', '[unused43]', '[unused44]', '[unused45]', '[unused46]', '[unused47]', '[unused48]']\n",
            "2020-10-14 15:19:22,295 [DEBUG] kashgari - ------------------------------------------------\n"
          ],
          "name": "stderr"
        }
      ]
    },
    {
      "cell_type": "code",
      "metadata": {
        "id": "EV_emcz0gVvg"
      },
      "source": [
        "model = BiLSTM_Model(bert_embed)"
      ],
      "execution_count": 9,
      "outputs": []
    },
    {
      "cell_type": "markdown",
      "metadata": {
        "id": "vOLt3vDnmpVV"
      },
      "source": [
        "##Weights Import"
      ]
    },
    {
      "cell_type": "code",
      "metadata": {
        "id": "PUWxpsLLhxd8",
        "outputId": "afde780e-1de3-4cb9-b0da-65566c69bdfd",
        "colab": {
          "base_uri": "https://localhost:8080/",
          "height": 328
        }
      },
      "source": [
        "!wget 'https://api.wandb.ai/files/alymostafa/nlp-task/1mk6uv86/files/lstm/embed_model_weights.h5'"
      ],
      "execution_count": 11,
      "outputs": [
        {
          "output_type": "stream",
          "text": [
            "--2020-10-14 15:19:23--  https://api.wandb.ai/files/alymostafa/nlp-task/1mk6uv86/files/lstm/embed_model_weights.h5\n",
            "Resolving api.wandb.ai (api.wandb.ai)... 35.186.228.49\n",
            "Connecting to api.wandb.ai (api.wandb.ai)|35.186.228.49|:443... connected.\n",
            "HTTP request sent, awaiting response... 307 Temporary Redirect\n",
            "Location: https://storage.googleapis.com/wandb-production.appspot.com/alymostafa/nlp-task/1mk6uv86/files/lstm/embed_model_weights.h5?Expires=1602688823&GoogleAccessId=gorilla-cloud-storage%40wandb-production.iam.gserviceaccount.com&Signature=ErMaxeja%2BgQOblDMG4VLBDe47CYD9hGDnKQseaSJl2zC7jccXBVhp66g9UVOctA14ZKTMuYkoNH5ZV7hWYeCA0YzaFYVXqiWg76ZZEiz2ghYq6HXIKGi%2BToC%2Bc%2BxIuD4gmpc3aWjjZtldFXAY0Yb3WysHpbgFs%2F%2F4ilDZ82czIpsHLWkhqQPy62tSyosr4agbjWUWgsgQ9kEFu9uPxHG%2B0QXztlwpfXTLkJhfXPKfKTamFsr8bJU%2F5VPHuU7uA9FcrxlXTdK%2BjxgG%2BmF3WvsPTxAbjo8WXtM5wWjghUZb3vGmGwODF4Vlrcs6v3267EWyTrtKYlq9wOlsu9%2BodXfiQ%3D%3D [following]\n",
            "--2020-10-14 15:19:23--  https://storage.googleapis.com/wandb-production.appspot.com/alymostafa/nlp-task/1mk6uv86/files/lstm/embed_model_weights.h5?Expires=1602688823&GoogleAccessId=gorilla-cloud-storage%40wandb-production.iam.gserviceaccount.com&Signature=ErMaxeja%2BgQOblDMG4VLBDe47CYD9hGDnKQseaSJl2zC7jccXBVhp66g9UVOctA14ZKTMuYkoNH5ZV7hWYeCA0YzaFYVXqiWg76ZZEiz2ghYq6HXIKGi%2BToC%2Bc%2BxIuD4gmpc3aWjjZtldFXAY0Yb3WysHpbgFs%2F%2F4ilDZ82czIpsHLWkhqQPy62tSyosr4agbjWUWgsgQ9kEFu9uPxHG%2B0QXztlwpfXTLkJhfXPKfKTamFsr8bJU%2F5VPHuU7uA9FcrxlXTdK%2BjxgG%2BmF3WvsPTxAbjo8WXtM5wWjghUZb3vGmGwODF4Vlrcs6v3267EWyTrtKYlq9wOlsu9%2BodXfiQ%3D%3D\n",
            "Resolving storage.googleapis.com (storage.googleapis.com)... 74.125.195.128, 74.125.28.128, 74.125.142.128, ...\n",
            "Connecting to storage.googleapis.com (storage.googleapis.com)|74.125.195.128|:443... connected.\n",
            "HTTP request sent, awaiting response... 200 OK\n",
            "Length: 435886848 (416M) [application/keras]\n",
            "Saving to: ‘embed_model_weights.h5’\n",
            "\n",
            "embed_model_weights 100%[===================>] 415.69M   147MB/s    in 2.8s    \n",
            "\n",
            "2020-10-14 15:19:26 (147 MB/s) - ‘embed_model_weights.h5’ saved [435886848/435886848]\n",
            "\n"
          ],
          "name": "stdout"
        }
      ]
    },
    {
      "cell_type": "code",
      "metadata": {
        "id": "VBBmzAbNiEqp",
        "outputId": "ea678fd9-b4f0-4ef0-dc70-693eafda0460",
        "colab": {
          "base_uri": "https://localhost:8080/",
          "height": 328
        }
      },
      "source": [
        "!wget 'https://api.wandb.ai/files/alymostafa/nlp-task/1mk6uv86/files/lstm/model_config.json'"
      ],
      "execution_count": 12,
      "outputs": [
        {
          "output_type": "stream",
          "text": [
            "--2020-10-14 15:19:26--  https://api.wandb.ai/files/alymostafa/nlp-task/1mk6uv86/files/lstm/model_config.json\n",
            "Resolving api.wandb.ai (api.wandb.ai)... 35.186.228.49\n",
            "Connecting to api.wandb.ai (api.wandb.ai)|35.186.228.49|:443... connected.\n",
            "HTTP request sent, awaiting response... 307 Temporary Redirect\n",
            "Location: https://storage.googleapis.com/wandb-production.appspot.com/alymostafa/nlp-task/1mk6uv86/files/lstm/model_config.json?Expires=1602688826&GoogleAccessId=gorilla-cloud-storage%40wandb-production.iam.gserviceaccount.com&Signature=Ff%2FVKiAiaVyDoKvv2unYme4xV07YL6Gl5aR9%2FtM5Lj%2BuEwcfneKH5egwdI2FCWUnr4RToUxexw2GUeFX34GKwo5dwd7OPZhRaLdrGBCX%2BdFHky744oJZ3%2BG5%2FqiMI4quLfqVvpBJZQ7h7j99ku2itlNHWw1hlaKKlUwvN%2BLBGoKv1wVSytJvVw15u84lHFRLn6aKCAVbTqLfZ6Hw5lt0Sm38ofzlI2qBsvRmVrEUZ1qJCtEZ5UFju%2F0d6Db%2FXvTJLHxln15mEbcewegfXfmTqcWXDtrHG6x18pKYteU9Tk6FeWC4%2B%2Bzn5%2FSx%2BcOERpWmmWPky4ZncAnIFN%2BTOedBaQ%3D%3D [following]\n",
            "--2020-10-14 15:19:26--  https://storage.googleapis.com/wandb-production.appspot.com/alymostafa/nlp-task/1mk6uv86/files/lstm/model_config.json?Expires=1602688826&GoogleAccessId=gorilla-cloud-storage%40wandb-production.iam.gserviceaccount.com&Signature=Ff%2FVKiAiaVyDoKvv2unYme4xV07YL6Gl5aR9%2FtM5Lj%2BuEwcfneKH5egwdI2FCWUnr4RToUxexw2GUeFX34GKwo5dwd7OPZhRaLdrGBCX%2BdFHky744oJZ3%2BG5%2FqiMI4quLfqVvpBJZQ7h7j99ku2itlNHWw1hlaKKlUwvN%2BLBGoKv1wVSytJvVw15u84lHFRLn6aKCAVbTqLfZ6Hw5lt0Sm38ofzlI2qBsvRmVrEUZ1qJCtEZ5UFju%2F0d6Db%2FXvTJLHxln15mEbcewegfXfmTqcWXDtrHG6x18pKYteU9Tk6FeWC4%2B%2Bzn5%2FSx%2BcOERpWmmWPky4ZncAnIFN%2BTOedBaQ%3D%3D\n",
            "Resolving storage.googleapis.com (storage.googleapis.com)... 74.125.195.128, 74.125.142.128, 173.194.203.128, ...\n",
            "Connecting to storage.googleapis.com (storage.googleapis.com)|74.125.195.128|:443... connected.\n",
            "HTTP request sent, awaiting response... 200 OK\n",
            "Length: 945225 (923K) [application/json]\n",
            "Saving to: ‘model_config.json’\n",
            "\n",
            "model_config.json   100%[===================>] 923.07K  --.-KB/s    in 0.008s  \n",
            "\n",
            "2020-10-14 15:19:26 (111 MB/s) - ‘model_config.json’ saved [945225/945225]\n",
            "\n"
          ],
          "name": "stdout"
        }
      ]
    },
    {
      "cell_type": "code",
      "metadata": {
        "id": "s-Zcnqj3iRWz",
        "outputId": "649d3201-2a8e-4d72-d3ab-0902c9fce694",
        "colab": {
          "base_uri": "https://localhost:8080/",
          "height": 328
        }
      },
      "source": [
        "!wget 'https://api.wandb.ai/files/alymostafa/nlp-task/1mk6uv86/files/lstm/model_weights.h5'"
      ],
      "execution_count": 13,
      "outputs": [
        {
          "output_type": "stream",
          "text": [
            "--2020-10-14 15:19:26--  https://api.wandb.ai/files/alymostafa/nlp-task/1mk6uv86/files/lstm/model_weights.h5\n",
            "Resolving api.wandb.ai (api.wandb.ai)... 35.186.228.49\n",
            "Connecting to api.wandb.ai (api.wandb.ai)|35.186.228.49|:443... connected.\n",
            "HTTP request sent, awaiting response... 307 Temporary Redirect\n",
            "Location: https://storage.googleapis.com/wandb-production.appspot.com/alymostafa/nlp-task/1mk6uv86/files/lstm/model_weights.h5?Expires=1602688826&GoogleAccessId=gorilla-cloud-storage%40wandb-production.iam.gserviceaccount.com&Signature=Mri%2BQmSSc5UMZ7gumgQISgAMyBcPvkkP7trMueBC9pZnd2cTPTurSTqvQsszzbqokNz80%2B90%2BoyQowHFHi0sLZAK2Pi%2BpVCvhyW%2BQHFh5acicsf55u4E3VaAcFGne4xzWqy%2F%2BBor0boCqEEL30AaIxTy%2B2GuBdgOJsvucaMooOcnJI0uK0bSyb2eHIJQqVLrG8%2Br338uBIKCB44gSJpg3ftJA2ygGLhi%2BgHMRZM4GvQ9fw6oQIl4Y5ar7gKobVtkbq%2FP0%2FnUnea5qWCArlFh9BSIxscwsLm2rU6Zu1%2B1kDYOqEZbRPQ7d%2FzoAMc783PFjw%2BEIhs5z8c5Z0k04H1diA%3D%3D [following]\n",
            "--2020-10-14 15:19:26--  https://storage.googleapis.com/wandb-production.appspot.com/alymostafa/nlp-task/1mk6uv86/files/lstm/model_weights.h5?Expires=1602688826&GoogleAccessId=gorilla-cloud-storage%40wandb-production.iam.gserviceaccount.com&Signature=Mri%2BQmSSc5UMZ7gumgQISgAMyBcPvkkP7trMueBC9pZnd2cTPTurSTqvQsszzbqokNz80%2B90%2BoyQowHFHi0sLZAK2Pi%2BpVCvhyW%2BQHFh5acicsf55u4E3VaAcFGne4xzWqy%2F%2BBor0boCqEEL30AaIxTy%2B2GuBdgOJsvucaMooOcnJI0uK0bSyb2eHIJQqVLrG8%2Br338uBIKCB44gSJpg3ftJA2ygGLhi%2BgHMRZM4GvQ9fw6oQIl4Y5ar7gKobVtkbq%2FP0%2FnUnea5qWCArlFh9BSIxscwsLm2rU6Zu1%2B1kDYOqEZbRPQ7d%2FzoAMc783PFjw%2BEIhs5z8c5Z0k04H1diA%3D%3D\n",
            "Resolving storage.googleapis.com (storage.googleapis.com)... 74.125.20.128, 142.250.99.128, 74.125.195.128, ...\n",
            "Connecting to storage.googleapis.com (storage.googleapis.com)|74.125.20.128|:443... connected.\n",
            "HTTP request sent, awaiting response... 200 OK\n",
            "Length: 439580724 (419M) [application/keras]\n",
            "Saving to: ‘model_weights.h5’\n",
            "\n",
            "model_weights.h5    100%[===================>] 419.22M   154MB/s    in 2.7s    \n",
            "\n",
            "2020-10-14 15:19:29 (154 MB/s) - ‘model_weights.h5’ saved [439580724/439580724]\n",
            "\n"
          ],
          "name": "stdout"
        }
      ]
    },
    {
      "cell_type": "code",
      "metadata": {
        "id": "GX0CEIddoZCH"
      },
      "source": [
        "!mkdir '/content/lstm' \n",
        "!mv  '/content/embed_model_weights.h5' '/content/lstm_weigths'\n",
        "!mv  '/content/model_config.json' '/content/lstm_weigths'\n",
        "!mv  '/content/model_weights.h5' '/content/lstm_weigths'\n"
      ],
      "execution_count": 14,
      "outputs": []
    },
    {
      "cell_type": "markdown",
      "metadata": {
        "id": "wQzj91VonUSR"
      },
      "source": [
        "## Model preparation\n",
        " "
      ]
    },
    {
      "cell_type": "code",
      "metadata": {
        "id": "mhldzsoTq4PC"
      },
      "source": [
        "def predict(docs):\n",
        "  tokenize_docs = []\n",
        "  df=pd.DataFrame([docs],columns=['text'])\n",
        "  docs_tokens = df['text'].tolist()\n",
        "  length = len(docs_tokens)\n",
        "  for i in range(length):\n",
        "    tokenize_docs.append(tokenize(docs_tokens[i]))\n",
        "  return tokenize_docs"
      ],
      "execution_count": 15,
      "outputs": []
    },
    {
      "cell_type": "code",
      "metadata": {
        "id": "YBu5CzR5ouBd",
        "outputId": "9e853518-7c32-4ef8-dc68-23a1a2ca0e1f",
        "colab": {
          "base_uri": "https://localhost:8080/",
          "height": 401
        }
      },
      "source": [
        "!wget 'https://www.dropbox.com/s/qss252cxfwkqy02/df_all_cat.csv?dl=0' -O df_all_cat.csv"
      ],
      "execution_count": 16,
      "outputs": [
        {
          "output_type": "stream",
          "text": [
            "--2020-10-14 15:19:30--  https://www.dropbox.com/s/qss252cxfwkqy02/df_all_cat.csv?dl=0\n",
            "Resolving www.dropbox.com (www.dropbox.com)... 162.125.1.1, 2620:100:6016:1::a27d:101\n",
            "Connecting to www.dropbox.com (www.dropbox.com)|162.125.1.1|:443... connected.\n",
            "HTTP request sent, awaiting response... 301 Moved Permanently\n",
            "Location: /s/raw/qss252cxfwkqy02/df_all_cat.csv [following]\n",
            "--2020-10-14 15:19:30--  https://www.dropbox.com/s/raw/qss252cxfwkqy02/df_all_cat.csv\n",
            "Reusing existing connection to www.dropbox.com:443.\n",
            "HTTP request sent, awaiting response... 302 Found\n",
            "Location: https://uc88cb8d39668508ad31cf1b324a.dl.dropboxusercontent.com/cd/0/inline/BBQ8BKsKu8D0eJGQ7mi4q1kO5sjqwrWLVr9aZHw8R8Aw7g_DGNA-OVEjdRRubi1TdvwwVf_p7AfNszMZFel-YgwnTyMkVMT847eVUxXB81vzGX5sMisPGnuicHvNN3CV1ds/file# [following]\n",
            "--2020-10-14 15:19:30--  https://uc88cb8d39668508ad31cf1b324a.dl.dropboxusercontent.com/cd/0/inline/BBQ8BKsKu8D0eJGQ7mi4q1kO5sjqwrWLVr9aZHw8R8Aw7g_DGNA-OVEjdRRubi1TdvwwVf_p7AfNszMZFel-YgwnTyMkVMT847eVUxXB81vzGX5sMisPGnuicHvNN3CV1ds/file\n",
            "Resolving uc88cb8d39668508ad31cf1b324a.dl.dropboxusercontent.com (uc88cb8d39668508ad31cf1b324a.dl.dropboxusercontent.com)... 162.125.1.15, 2620:100:6016:15::a27d:10f\n",
            "Connecting to uc88cb8d39668508ad31cf1b324a.dl.dropboxusercontent.com (uc88cb8d39668508ad31cf1b324a.dl.dropboxusercontent.com)|162.125.1.15|:443... connected.\n",
            "HTTP request sent, awaiting response... 200 OK\n",
            "Length: 5331204 (5.1M) [text/plain]\n",
            "Saving to: ‘df_all_cat.csv’\n",
            "\n",
            "df_all_cat.csv      100%[===================>]   5.08M  --.-KB/s    in 0.07s   \n",
            "\n",
            "2020-10-14 15:19:31 (69.5 MB/s) - ‘df_all_cat.csv’ saved [5331204/5331204]\n",
            "\n"
          ],
          "name": "stdout"
        }
      ]
    },
    {
      "cell_type": "code",
      "metadata": {
        "id": "gWpmaBwipupM"
      },
      "source": [
        "df_all_cat = pd.read_csv('df_all_cat.csv')"
      ],
      "execution_count": 17,
      "outputs": []
    },
    {
      "cell_type": "code",
      "metadata": {
        "id": "9Xd5mQBnyrTZ"
      },
      "source": [
        "msk = np.random.rand(len(df_all_cat)) < 0.8\n",
        "train_df = df_all_cat[msk]\n",
        "test_val_df = df_all_cat[~msk]"
      ],
      "execution_count": 18,
      "outputs": []
    },
    {
      "cell_type": "code",
      "metadata": {
        "id": "oH6aNx04yrQ6"
      },
      "source": [
        "msk = np.random.rand(len(test_val_df)) < 0.5\n",
        "test_df = test_val_df[msk]\n",
        "validate_df = test_val_df[~msk]\n",
        "train_x, train_y = list(train_df['text']), list(train_df['title'])\n",
        "test_x, test_y = list(test_df['text']), list(test_df['title'])\n",
        "validate_x, validate_y = list(validate_df['text']), list(validate_df['title'])"
      ],
      "execution_count": 19,
      "outputs": []
    },
    {
      "cell_type": "code",
      "metadata": {
        "id": "gXmJ1N8hqeSt"
      },
      "source": [
        "import ast\n",
        "train_x=[ast.literal_eval(i) for i in train_x]\n",
        "test_x=[ast.literal_eval(i) for i in test_x]\n",
        "validate_x=[ast.literal_eval(i) for i in validate_x]"
      ],
      "execution_count": 20,
      "outputs": []
    },
    {
      "cell_type": "code",
      "metadata": {
        "id": "NZK2J09Nidtd",
        "outputId": "1e428ff4-7877-4df3-cfbd-55e94b12edf3",
        "colab": {
          "base_uri": "https://localhost:8080/",
          "height": 183
        }
      },
      "source": [
        "loaded_model = model.load_model('lstm')"
      ],
      "execution_count": 21,
      "outputs": [
        {
          "output_type": "stream",
          "text": [
            "2020-10-14 15:19:31,997 [DEBUG] kashgari - ------------------------------------------------\n",
            "2020-10-14 15:19:31,997 [DEBUG] kashgari - Loaded transformer model's vocab\n",
            "2020-10-14 15:19:31,998 [DEBUG] kashgari - config_path       : /content/uncased_L-12_H-768_A-12/bert_config.json\n",
            "2020-10-14 15:19:31,999 [DEBUG] kashgari - vocab_path      : /content/uncased_L-12_H-768_A-12/vocab.txt\n",
            "2020-10-14 15:19:32,001 [DEBUG] kashgari - checkpoint_path : /content/uncased_L-12_H-768_A-12/bert_model.ckpt\n",
            "2020-10-14 15:19:32,001 [DEBUG] kashgari - Top 50 words    : ['[PAD]', '[unused0]', '[unused1]', '[unused2]', '[unused3]', '[unused4]', '[unused5]', '[unused6]', '[unused7]', '[unused8]', '[unused9]', '[unused10]', '[unused11]', '[unused12]', '[unused13]', '[unused14]', '[unused15]', '[unused16]', '[unused17]', '[unused18]', '[unused19]', '[unused20]', '[unused21]', '[unused22]', '[unused23]', '[unused24]', '[unused25]', '[unused26]', '[unused27]', '[unused28]', '[unused29]', '[unused30]', '[unused31]', '[unused32]', '[unused33]', '[unused34]', '[unused35]', '[unused36]', '[unused37]', '[unused38]', '[unused39]', '[unused40]', '[unused41]', '[unused42]', '[unused43]', '[unused44]', '[unused45]', '[unused46]', '[unused47]', '[unused48]']\n",
            "2020-10-14 15:19:32,003 [DEBUG] kashgari - ------------------------------------------------\n"
          ],
          "name": "stderr"
        },
        {
          "output_type": "stream",
          "text": [
            "{\"class_name\": \"Functional\", \"config\": {\"name\": \"functional_3\", \"layers\": [{\"class_name\": \"InputLayer\", \"config\": {\"batch_input_shape\": [null, null], \"dtype\": \"float32\", \"sparse\": false, \"ragged\": false, \"name\": \"Input-Token\"}, \"name\": \"Input-Token\", \"inbound_nodes\": []}, {\"class_name\": \"InputLayer\", \"config\": {\"batch_input_shape\": [null, null], \"dtype\": \"float32\", \"sparse\": false, \"ragged\": false, \"name\": \"Input-Segment\"}, \"name\": \"Input-Segment\", \"inbound_nodes\": []}, {\"class_name\": \"Embedding\", \"config\": {\"name\": \"Embedding-Token\", \"trainable\": false, \"batch_input_shape\": [null, null], \"dtype\": \"float32\", \"input_dim\": 30522, \"output_dim\": 768, \"embeddings_initializer\": {\"class_name\": \"TruncatedNormal\", \"config\": {\"mean\": 0.0, \"stddev\": 0.02, \"seed\": null}}, \"embeddings_regularizer\": null, \"activity_regularizer\": null, \"embeddings_constraint\": null, \"mask_zero\": true, \"input_length\": null}, \"name\": \"Embedding-Token\", \"inbound_nodes\": [[[\"Input-Token\", 0, 0, {}]]]}, {\"class_name\": \"Embedding\", \"config\": {\"name\": \"Embedding-Segment\", \"trainable\": false, \"batch_input_shape\": [null, null], \"dtype\": \"float32\", \"input_dim\": 2, \"output_dim\": 768, \"embeddings_initializer\": {\"class_name\": \"TruncatedNormal\", \"config\": {\"mean\": 0.0, \"stddev\": 0.02, \"seed\": null}}, \"embeddings_regularizer\": null, \"activity_regularizer\": null, \"embeddings_constraint\": null, \"mask_zero\": false, \"input_length\": null}, \"name\": \"Embedding-Segment\", \"inbound_nodes\": [[[\"Input-Segment\", 0, 0, {}]]]}, {\"class_name\": \"Add\", \"config\": {\"name\": \"Embedding-Token-Segment\", \"trainable\": false, \"dtype\": \"float32\"}, \"name\": \"Embedding-Token-Segment\", \"inbound_nodes\": [[[\"Embedding-Token\", 0, 0, {}], [\"Embedding-Segment\", 0, 0, {}]]]}, {\"class_name\": \"PositionEmbedding\", \"config\": {\"name\": \"Embedding-Position\", \"trainable\": false, \"dtype\": \"float32\", \"input_dim\": 512, \"output_dim\": 768, \"merge_mode\": \"add\", \"embeddings_initializer\": {\"class_name\": \"TruncatedNormal\", \"config\": {\"mean\": 0.0, \"stddev\": 0.02, \"seed\": null}}, \"custom_position_ids\": false}, \"name\": \"Embedding-Position\", \"inbound_nodes\": [[[\"Embedding-Token-Segment\", 0, 0, {}]]]}, {\"class_name\": \"LayerNormalization\", \"config\": {\"name\": \"Embedding-Norm\", \"trainable\": false, \"dtype\": \"float32\", \"center\": true, \"scale\": true, \"epsilon\": 1e-12, \"conditional\": false, \"hidden_units\": null, \"hidden_activation\": \"linear\", \"hidden_initializer\": {\"class_name\": \"TruncatedNormal\", \"config\": {\"mean\": 0.0, \"stddev\": 0.02, \"seed\": null}}}, \"name\": \"Embedding-Norm\", \"inbound_nodes\": [[[\"Embedding-Position\", 0, 0, {}]]]}, {\"class_name\": \"Dropout\", \"config\": {\"name\": \"Embedding-Dropout\", \"trainable\": false, \"dtype\": \"float32\", \"rate\": 0.1, \"noise_shape\": null, \"seed\": null}, \"name\": \"Embedding-Dropout\", \"inbound_nodes\": [[[\"Embedding-Norm\", 0, 0, {}]]]}, {\"class_name\": \"MultiHeadAttention\", \"config\": {\"name\": \"Transformer-0-MultiHeadSelfAttention\", \"trainable\": false, \"dtype\": \"float32\", \"heads\": 12, \"head_size\": 64, \"key_size\": 64, \"use_bias\": true, \"attention_scale\": true, \"kernel_initializer\": {\"class_name\": \"TruncatedNormal\", \"config\": {\"mean\": 0.0, \"stddev\": 0.02, \"seed\": null}}}, \"name\": \"Transformer-0-MultiHeadSelfAttention\", \"inbound_nodes\": [[[\"Embedding-Dropout\", 0, 0, {\"a_mask\": null}], [\"Embedding-Dropout\", 0, 0, {\"a_mask\": null}], [\"Embedding-Dropout\", 0, 0, {\"a_mask\": null}]]]}, {\"class_name\": \"Dropout\", \"config\": {\"name\": \"Transformer-0-MultiHeadSelfAttention-Dropout\", \"trainable\": false, \"dtype\": \"float32\", \"rate\": 0.1, \"noise_shape\": null, \"seed\": null}, \"name\": \"Transformer-0-MultiHeadSelfAttention-Dropout\", \"inbound_nodes\": [[[\"Transformer-0-MultiHeadSelfAttention\", 0, 0, {}]]]}, {\"class_name\": \"Add\", \"config\": {\"name\": \"Transformer-0-MultiHeadSelfAttention-Add\", \"trainable\": false, \"dtype\": \"float32\"}, \"name\": \"Transformer-0-MultiHeadSelfAttention-Add\", \"inbound_nodes\": [[[\"Embedding-Dropout\", 0, 0, {}], [\"Transformer-0-MultiHeadSelfAttention-Dropout\", 0, 0, {}]]]}, {\"class_name\": \"LayerNormalization\", \"config\": {\"name\": \"Transformer-0-MultiHeadSelfAttention-Norm\", \"trainable\": false, \"dtype\": \"float32\", \"center\": true, \"scale\": true, \"epsilon\": 1e-12, \"conditional\": false, \"hidden_units\": null, \"hidden_activation\": \"linear\", \"hidden_initializer\": {\"class_name\": \"TruncatedNormal\", \"config\": {\"mean\": 0.0, \"stddev\": 0.02, \"seed\": null}}}, \"name\": \"Transformer-0-MultiHeadSelfAttention-Norm\", \"inbound_nodes\": [[[\"Transformer-0-MultiHeadSelfAttention-Add\", 0, 0, {}]]]}, {\"class_name\": \"FeedForward\", \"config\": {\"name\": \"Transformer-0-FeedForward\", \"trainable\": false, \"dtype\": \"float32\", \"units\": 3072, \"activation\": \"gelu_erf\", \"use_bias\": true, \"kernel_initializer\": {\"class_name\": \"TruncatedNormal\", \"config\": {\"mean\": 0.0, \"stddev\": 0.02, \"seed\": null}}}, \"name\": \"Transformer-0-FeedForward\", \"inbound_nodes\": [[[\"Transformer-0-MultiHeadSelfAttention-Norm\", 0, 0, {}]]]}, {\"class_name\": \"Dropout\", \"config\": {\"name\": \"Transformer-0-FeedForward-Dropout\", \"trainable\": false, \"dtype\": \"float32\", \"rate\": 0.1, \"noise_shape\": null, \"seed\": null}, \"name\": \"Transformer-0-FeedForward-Dropout\", \"inbound_nodes\": [[[\"Transformer-0-FeedForward\", 0, 0, {}]]]}, {\"class_name\": \"Add\", \"config\": {\"name\": \"Transformer-0-FeedForward-Add\", \"trainable\": false, \"dtype\": \"float32\"}, \"name\": \"Transformer-0-FeedForward-Add\", \"inbound_nodes\": [[[\"Transformer-0-MultiHeadSelfAttention-Norm\", 0, 0, {}], [\"Transformer-0-FeedForward-Dropout\", 0, 0, {}]]]}, {\"class_name\": \"LayerNormalization\", \"config\": {\"name\": \"Transformer-0-FeedForward-Norm\", \"trainable\": false, \"dtype\": \"float32\", \"center\": true, \"scale\": true, \"epsilon\": 1e-12, \"conditional\": false, \"hidden_units\": null, \"hidden_activation\": \"linear\", \"hidden_initializer\": {\"class_name\": \"TruncatedNormal\", \"config\": {\"mean\": 0.0, \"stddev\": 0.02, \"seed\": null}}}, \"name\": \"Transformer-0-FeedForward-Norm\", \"inbound_nodes\": [[[\"Transformer-0-FeedForward-Add\", 0, 0, {}]]]}, {\"class_name\": \"MultiHeadAttention\", \"config\": {\"name\": \"Transformer-1-MultiHeadSelfAttention\", \"trainable\": false, \"dtype\": \"float32\", \"heads\": 12, \"head_size\": 64, \"key_size\": 64, \"use_bias\": true, \"attention_scale\": true, \"kernel_initializer\": {\"class_name\": \"TruncatedNormal\", \"config\": {\"mean\": 0.0, \"stddev\": 0.02, \"seed\": null}}}, \"name\": \"Transformer-1-MultiHeadSelfAttention\", \"inbound_nodes\": [[[\"Transformer-0-FeedForward-Norm\", 0, 0, {\"a_mask\": null}], [\"Transformer-0-FeedForward-Norm\", 0, 0, {\"a_mask\": null}], [\"Transformer-0-FeedForward-Norm\", 0, 0, {\"a_mask\": null}]]]}, {\"class_name\": \"Dropout\", \"config\": {\"name\": \"Transformer-1-MultiHeadSelfAttention-Dropout\", \"trainable\": false, \"dtype\": \"float32\", \"rate\": 0.1, \"noise_shape\": null, \"seed\": null}, \"name\": \"Transformer-1-MultiHeadSelfAttention-Dropout\", \"inbound_nodes\": [[[\"Transformer-1-MultiHeadSelfAttention\", 0, 0, {}]]]}, {\"class_name\": \"Add\", \"config\": {\"name\": \"Transformer-1-MultiHeadSelfAttention-Add\", \"trainable\": false, \"dtype\": \"float32\"}, \"name\": \"Transformer-1-MultiHeadSelfAttention-Add\", \"inbound_nodes\": [[[\"Transformer-0-FeedForward-Norm\", 0, 0, {}], [\"Transformer-1-MultiHeadSelfAttention-Dropout\", 0, 0, {}]]]}, {\"class_name\": \"LayerNormalization\", \"config\": {\"name\": \"Transformer-1-MultiHeadSelfAttention-Norm\", \"trainable\": false, \"dtype\": \"float32\", \"center\": true, \"scale\": true, \"epsilon\": 1e-12, \"conditional\": false, \"hidden_units\": null, \"hidden_activation\": \"linear\", \"hidden_initializer\": {\"class_name\": \"TruncatedNormal\", \"config\": {\"mean\": 0.0, \"stddev\": 0.02, \"seed\": null}}}, \"name\": \"Transformer-1-MultiHeadSelfAttention-Norm\", \"inbound_nodes\": [[[\"Transformer-1-MultiHeadSelfAttention-Add\", 0, 0, {}]]]}, {\"class_name\": \"FeedForward\", \"config\": {\"name\": \"Transformer-1-FeedForward\", \"trainable\": false, \"dtype\": \"float32\", \"units\": 3072, \"activation\": \"gelu_erf\", \"use_bias\": true, \"kernel_initializer\": {\"class_name\": \"TruncatedNormal\", \"config\": {\"mean\": 0.0, \"stddev\": 0.02, \"seed\": null}}}, \"name\": \"Transformer-1-FeedForward\", \"inbound_nodes\": [[[\"Transformer-1-MultiHeadSelfAttention-Norm\", 0, 0, {}]]]}, {\"class_name\": \"Dropout\", \"config\": {\"name\": \"Transformer-1-FeedForward-Dropout\", \"trainable\": false, \"dtype\": \"float32\", \"rate\": 0.1, \"noise_shape\": null, \"seed\": null}, \"name\": \"Transformer-1-FeedForward-Dropout\", \"inbound_nodes\": [[[\"Transformer-1-FeedForward\", 0, 0, {}]]]}, {\"class_name\": \"Add\", \"config\": {\"name\": \"Transformer-1-FeedForward-Add\", \"trainable\": false, \"dtype\": \"float32\"}, \"name\": \"Transformer-1-FeedForward-Add\", \"inbound_nodes\": [[[\"Transformer-1-MultiHeadSelfAttention-Norm\", 0, 0, {}], [\"Transformer-1-FeedForward-Dropout\", 0, 0, {}]]]}, {\"class_name\": \"LayerNormalization\", \"config\": {\"name\": \"Transformer-1-FeedForward-Norm\", \"trainable\": false, \"dtype\": \"float32\", \"center\": true, \"scale\": true, \"epsilon\": 1e-12, \"conditional\": false, \"hidden_units\": null, \"hidden_activation\": \"linear\", \"hidden_initializer\": {\"class_name\": \"TruncatedNormal\", \"config\": {\"mean\": 0.0, \"stddev\": 0.02, \"seed\": null}}}, \"name\": \"Transformer-1-FeedForward-Norm\", \"inbound_nodes\": [[[\"Transformer-1-FeedForward-Add\", 0, 0, {}]]]}, {\"class_name\": \"MultiHeadAttention\", \"config\": {\"name\": \"Transformer-2-MultiHeadSelfAttention\", \"trainable\": false, \"dtype\": \"float32\", \"heads\": 12, \"head_size\": 64, \"key_size\": 64, \"use_bias\": true, \"attention_scale\": true, \"kernel_initializer\": {\"class_name\": \"TruncatedNormal\", \"config\": {\"mean\": 0.0, \"stddev\": 0.02, \"seed\": null}}}, \"name\": \"Transformer-2-MultiHeadSelfAttention\", \"inbound_nodes\": [[[\"Transformer-1-FeedForward-Norm\", 0, 0, {\"a_mask\": null}], [\"Transformer-1-FeedForward-Norm\", 0, 0, {\"a_mask\": null}], [\"Transformer-1-FeedForward-Norm\", 0, 0, {\"a_mask\": null}]]]}, {\"class_name\": \"Dropout\", \"config\": {\"name\": \"Transformer-2-MultiHeadSelfAttention-Dropout\", \"trainable\": false, \"dtype\": \"float32\", \"rate\": 0.1, \"noise_shape\": null, \"seed\": null}, \"name\": \"Transformer-2-MultiHeadSelfAttention-Dropout\", \"inbound_nodes\": [[[\"Transformer-2-MultiHeadSelfAttention\", 0, 0, {}]]]}, {\"class_name\": \"Add\", \"config\": {\"name\": \"Transformer-2-MultiHeadSelfAttention-Add\", \"trainable\": false, \"dtype\": \"float32\"}, \"name\": \"Transformer-2-MultiHeadSelfAttention-Add\", \"inbound_nodes\": [[[\"Transformer-1-FeedForward-Norm\", 0, 0, {}], [\"Transformer-2-MultiHeadSelfAttention-Dropout\", 0, 0, {}]]]}, {\"class_name\": \"LayerNormalization\", \"config\": {\"name\": \"Transformer-2-MultiHeadSelfAttention-Norm\", \"trainable\": false, \"dtype\": \"float32\", \"center\": true, \"scale\": true, \"epsilon\": 1e-12, \"conditional\": false, \"hidden_units\": null, \"hidden_activation\": \"linear\", \"hidden_initializer\": {\"class_name\": \"TruncatedNormal\", \"config\": {\"mean\": 0.0, \"stddev\": 0.02, \"seed\": null}}}, \"name\": \"Transformer-2-MultiHeadSelfAttention-Norm\", \"inbound_nodes\": [[[\"Transformer-2-MultiHeadSelfAttention-Add\", 0, 0, {}]]]}, {\"class_name\": \"FeedForward\", \"config\": {\"name\": \"Transformer-2-FeedForward\", \"trainable\": false, \"dtype\": \"float32\", \"units\": 3072, \"activation\": \"gelu_erf\", \"use_bias\": true, \"kernel_initializer\": {\"class_name\": \"TruncatedNormal\", \"config\": {\"mean\": 0.0, \"stddev\": 0.02, \"seed\": null}}}, \"name\": \"Transformer-2-FeedForward\", \"inbound_nodes\": [[[\"Transformer-2-MultiHeadSelfAttention-Norm\", 0, 0, {}]]]}, {\"class_name\": \"Dropout\", \"config\": {\"name\": \"Transformer-2-FeedForward-Dropout\", \"trainable\": false, \"dtype\": \"float32\", \"rate\": 0.1, \"noise_shape\": null, \"seed\": null}, \"name\": \"Transformer-2-FeedForward-Dropout\", \"inbound_nodes\": [[[\"Transformer-2-FeedForward\", 0, 0, {}]]]}, {\"class_name\": \"Add\", \"config\": {\"name\": \"Transformer-2-FeedForward-Add\", \"trainable\": false, \"dtype\": \"float32\"}, \"name\": \"Transformer-2-FeedForward-Add\", \"inbound_nodes\": [[[\"Transformer-2-MultiHeadSelfAttention-Norm\", 0, 0, {}], [\"Transformer-2-FeedForward-Dropout\", 0, 0, {}]]]}, {\"class_name\": \"LayerNormalization\", \"config\": {\"name\": \"Transformer-2-FeedForward-Norm\", \"trainable\": false, \"dtype\": \"float32\", \"center\": true, \"scale\": true, \"epsilon\": 1e-12, \"conditional\": false, \"hidden_units\": null, \"hidden_activation\": \"linear\", \"hidden_initializer\": {\"class_name\": \"TruncatedNormal\", \"config\": {\"mean\": 0.0, \"stddev\": 0.02, \"seed\": null}}}, \"name\": \"Transformer-2-FeedForward-Norm\", \"inbound_nodes\": [[[\"Transformer-2-FeedForward-Add\", 0, 0, {}]]]}, {\"class_name\": \"MultiHeadAttention\", \"config\": {\"name\": \"Transformer-3-MultiHeadSelfAttention\", \"trainable\": false, \"dtype\": \"float32\", \"heads\": 12, \"head_size\": 64, \"key_size\": 64, \"use_bias\": true, \"attention_scale\": true, \"kernel_initializer\": {\"class_name\": \"TruncatedNormal\", \"config\": {\"mean\": 0.0, \"stddev\": 0.02, \"seed\": null}}}, \"name\": \"Transformer-3-MultiHeadSelfAttention\", \"inbound_nodes\": [[[\"Transformer-2-FeedForward-Norm\", 0, 0, {\"a_mask\": null}], [\"Transformer-2-FeedForward-Norm\", 0, 0, {\"a_mask\": null}], [\"Transformer-2-FeedForward-Norm\", 0, 0, {\"a_mask\": null}]]]}, {\"class_name\": \"Dropout\", \"config\": {\"name\": \"Transformer-3-MultiHeadSelfAttention-Dropout\", \"trainable\": false, \"dtype\": \"float32\", \"rate\": 0.1, \"noise_shape\": null, \"seed\": null}, \"name\": \"Transformer-3-MultiHeadSelfAttention-Dropout\", \"inbound_nodes\": [[[\"Transformer-3-MultiHeadSelfAttention\", 0, 0, {}]]]}, {\"class_name\": \"Add\", \"config\": {\"name\": \"Transformer-3-MultiHeadSelfAttention-Add\", \"trainable\": false, \"dtype\": \"float32\"}, \"name\": \"Transformer-3-MultiHeadSelfAttention-Add\", \"inbound_nodes\": [[[\"Transformer-2-FeedForward-Norm\", 0, 0, {}], [\"Transformer-3-MultiHeadSelfAttention-Dropout\", 0, 0, {}]]]}, {\"class_name\": \"LayerNormalization\", \"config\": {\"name\": \"Transformer-3-MultiHeadSelfAttention-Norm\", \"trainable\": false, \"dtype\": \"float32\", \"center\": true, \"scale\": true, \"epsilon\": 1e-12, \"conditional\": false, \"hidden_units\": null, \"hidden_activation\": \"linear\", \"hidden_initializer\": {\"class_name\": \"TruncatedNormal\", \"config\": {\"mean\": 0.0, \"stddev\": 0.02, \"seed\": null}}}, \"name\": \"Transformer-3-MultiHeadSelfAttention-Norm\", \"inbound_nodes\": [[[\"Transformer-3-MultiHeadSelfAttention-Add\", 0, 0, {}]]]}, {\"class_name\": \"FeedForward\", \"config\": {\"name\": \"Transformer-3-FeedForward\", \"trainable\": false, \"dtype\": \"float32\", \"units\": 3072, \"activation\": \"gelu_erf\", \"use_bias\": true, \"kernel_initializer\": {\"class_name\": \"TruncatedNormal\", \"config\": {\"mean\": 0.0, \"stddev\": 0.02, \"seed\": null}}}, \"name\": \"Transformer-3-FeedForward\", \"inbound_nodes\": [[[\"Transformer-3-MultiHeadSelfAttention-Norm\", 0, 0, {}]]]}, {\"class_name\": \"Dropout\", \"config\": {\"name\": \"Transformer-3-FeedForward-Dropout\", \"trainable\": false, \"dtype\": \"float32\", \"rate\": 0.1, \"noise_shape\": null, \"seed\": null}, \"name\": \"Transformer-3-FeedForward-Dropout\", \"inbound_nodes\": [[[\"Transformer-3-FeedForward\", 0, 0, {}]]]}, {\"class_name\": \"Add\", \"config\": {\"name\": \"Transformer-3-FeedForward-Add\", \"trainable\": false, \"dtype\": \"float32\"}, \"name\": \"Transformer-3-FeedForward-Add\", \"inbound_nodes\": [[[\"Transformer-3-MultiHeadSelfAttention-Norm\", 0, 0, {}], [\"Transformer-3-FeedForward-Dropout\", 0, 0, {}]]]}, {\"class_name\": \"LayerNormalization\", \"config\": {\"name\": \"Transformer-3-FeedForward-Norm\", \"trainable\": false, \"dtype\": \"float32\", \"center\": true, \"scale\": true, \"epsilon\": 1e-12, \"conditional\": false, \"hidden_units\": null, \"hidden_activation\": \"linear\", \"hidden_initializer\": {\"class_name\": \"TruncatedNormal\", \"config\": {\"mean\": 0.0, \"stddev\": 0.02, \"seed\": null}}}, \"name\": \"Transformer-3-FeedForward-Norm\", \"inbound_nodes\": [[[\"Transformer-3-FeedForward-Add\", 0, 0, {}]]]}, {\"class_name\": \"MultiHeadAttention\", \"config\": {\"name\": \"Transformer-4-MultiHeadSelfAttention\", \"trainable\": false, \"dtype\": \"float32\", \"heads\": 12, \"head_size\": 64, \"key_size\": 64, \"use_bias\": true, \"attention_scale\": true, \"kernel_initializer\": {\"class_name\": \"TruncatedNormal\", \"config\": {\"mean\": 0.0, \"stddev\": 0.02, \"seed\": null}}}, \"name\": \"Transformer-4-MultiHeadSelfAttention\", \"inbound_nodes\": [[[\"Transformer-3-FeedForward-Norm\", 0, 0, {\"a_mask\": null}], [\"Transformer-3-FeedForward-Norm\", 0, 0, {\"a_mask\": null}], [\"Transformer-3-FeedForward-Norm\", 0, 0, {\"a_mask\": null}]]]}, {\"class_name\": \"Dropout\", \"config\": {\"name\": \"Transformer-4-MultiHeadSelfAttention-Dropout\", \"trainable\": false, \"dtype\": \"float32\", \"rate\": 0.1, \"noise_shape\": null, \"seed\": null}, \"name\": \"Transformer-4-MultiHeadSelfAttention-Dropout\", \"inbound_nodes\": [[[\"Transformer-4-MultiHeadSelfAttention\", 0, 0, {}]]]}, {\"class_name\": \"Add\", \"config\": {\"name\": \"Transformer-4-MultiHeadSelfAttention-Add\", \"trainable\": false, \"dtype\": \"float32\"}, \"name\": \"Transformer-4-MultiHeadSelfAttention-Add\", \"inbound_nodes\": [[[\"Transformer-3-FeedForward-Norm\", 0, 0, {}], [\"Transformer-4-MultiHeadSelfAttention-Dropout\", 0, 0, {}]]]}, {\"class_name\": \"LayerNormalization\", \"config\": {\"name\": \"Transformer-4-MultiHeadSelfAttention-Norm\", \"trainable\": false, \"dtype\": \"float32\", \"center\": true, \"scale\": true, \"epsilon\": 1e-12, \"conditional\": false, \"hidden_units\": null, \"hidden_activation\": \"linear\", \"hidden_initializer\": {\"class_name\": \"TruncatedNormal\", \"config\": {\"mean\": 0.0, \"stddev\": 0.02, \"seed\": null}}}, \"name\": \"Transformer-4-MultiHeadSelfAttention-Norm\", \"inbound_nodes\": [[[\"Transformer-4-MultiHeadSelfAttention-Add\", 0, 0, {}]]]}, {\"class_name\": \"FeedForward\", \"config\": {\"name\": \"Transformer-4-FeedForward\", \"trainable\": false, \"dtype\": \"float32\", \"units\": 3072, \"activation\": \"gelu_erf\", \"use_bias\": true, \"kernel_initializer\": {\"class_name\": \"TruncatedNormal\", \"config\": {\"mean\": 0.0, \"stddev\": 0.02, \"seed\": null}}}, \"name\": \"Transformer-4-FeedForward\", \"inbound_nodes\": [[[\"Transformer-4-MultiHeadSelfAttention-Norm\", 0, 0, {}]]]}, {\"class_name\": \"Dropout\", \"config\": {\"name\": \"Transformer-4-FeedForward-Dropout\", \"trainable\": false, \"dtype\": \"float32\", \"rate\": 0.1, \"noise_shape\": null, \"seed\": null}, \"name\": \"Transformer-4-FeedForward-Dropout\", \"inbound_nodes\": [[[\"Transformer-4-FeedForward\", 0, 0, {}]]]}, {\"class_name\": \"Add\", \"config\": {\"name\": \"Transformer-4-FeedForward-Add\", \"trainable\": false, \"dtype\": \"float32\"}, \"name\": \"Transformer-4-FeedForward-Add\", \"inbound_nodes\": [[[\"Transformer-4-MultiHeadSelfAttention-Norm\", 0, 0, {}], [\"Transformer-4-FeedForward-Dropout\", 0, 0, {}]]]}, {\"class_name\": \"LayerNormalization\", \"config\": {\"name\": \"Transformer-4-FeedForward-Norm\", \"trainable\": false, \"dtype\": \"float32\", \"center\": true, \"scale\": true, \"epsilon\": 1e-12, \"conditional\": false, \"hidden_units\": null, \"hidden_activation\": \"linear\", \"hidden_initializer\": {\"class_name\": \"TruncatedNormal\", \"config\": {\"mean\": 0.0, \"stddev\": 0.02, \"seed\": null}}}, \"name\": \"Transformer-4-FeedForward-Norm\", \"inbound_nodes\": [[[\"Transformer-4-FeedForward-Add\", 0, 0, {}]]]}, {\"class_name\": \"MultiHeadAttention\", \"config\": {\"name\": \"Transformer-5-MultiHeadSelfAttention\", \"trainable\": false, \"dtype\": \"float32\", \"heads\": 12, \"head_size\": 64, \"key_size\": 64, \"use_bias\": true, \"attention_scale\": true, \"kernel_initializer\": {\"class_name\": \"TruncatedNormal\", \"config\": {\"mean\": 0.0, \"stddev\": 0.02, \"seed\": null}}}, \"name\": \"Transformer-5-MultiHeadSelfAttention\", \"inbound_nodes\": [[[\"Transformer-4-FeedForward-Norm\", 0, 0, {\"a_mask\": null}], [\"Transformer-4-FeedForward-Norm\", 0, 0, {\"a_mask\": null}], [\"Transformer-4-FeedForward-Norm\", 0, 0, {\"a_mask\": null}]]]}, {\"class_name\": \"Dropout\", \"config\": {\"name\": \"Transformer-5-MultiHeadSelfAttention-Dropout\", \"trainable\": false, \"dtype\": \"float32\", \"rate\": 0.1, \"noise_shape\": null, \"seed\": null}, \"name\": \"Transformer-5-MultiHeadSelfAttention-Dropout\", \"inbound_nodes\": [[[\"Transformer-5-MultiHeadSelfAttention\", 0, 0, {}]]]}, {\"class_name\": \"Add\", \"config\": {\"name\": \"Transformer-5-MultiHeadSelfAttention-Add\", \"trainable\": false, \"dtype\": \"float32\"}, \"name\": \"Transformer-5-MultiHeadSelfAttention-Add\", \"inbound_nodes\": [[[\"Transformer-4-FeedForward-Norm\", 0, 0, {}], [\"Transformer-5-MultiHeadSelfAttention-Dropout\", 0, 0, {}]]]}, {\"class_name\": \"LayerNormalization\", \"config\": {\"name\": \"Transformer-5-MultiHeadSelfAttention-Norm\", \"trainable\": false, \"dtype\": \"float32\", \"center\": true, \"scale\": true, \"epsilon\": 1e-12, \"conditional\": false, \"hidden_units\": null, \"hidden_activation\": \"linear\", \"hidden_initializer\": {\"class_name\": \"TruncatedNormal\", \"config\": {\"mean\": 0.0, \"stddev\": 0.02, \"seed\": null}}}, \"name\": \"Transformer-5-MultiHeadSelfAttention-Norm\", \"inbound_nodes\": [[[\"Transformer-5-MultiHeadSelfAttention-Add\", 0, 0, {}]]]}, {\"class_name\": \"FeedForward\", \"config\": {\"name\": \"Transformer-5-FeedForward\", \"trainable\": false, \"dtype\": \"float32\", \"units\": 3072, \"activation\": \"gelu_erf\", \"use_bias\": true, \"kernel_initializer\": {\"class_name\": \"TruncatedNormal\", \"config\": {\"mean\": 0.0, \"stddev\": 0.02, \"seed\": null}}}, \"name\": \"Transformer-5-FeedForward\", \"inbound_nodes\": [[[\"Transformer-5-MultiHeadSelfAttention-Norm\", 0, 0, {}]]]}, {\"class_name\": \"Dropout\", \"config\": {\"name\": \"Transformer-5-FeedForward-Dropout\", \"trainable\": false, \"dtype\": \"float32\", \"rate\": 0.1, \"noise_shape\": null, \"seed\": null}, \"name\": \"Transformer-5-FeedForward-Dropout\", \"inbound_nodes\": [[[\"Transformer-5-FeedForward\", 0, 0, {}]]]}, {\"class_name\": \"Add\", \"config\": {\"name\": \"Transformer-5-FeedForward-Add\", \"trainable\": false, \"dtype\": \"float32\"}, \"name\": \"Transformer-5-FeedForward-Add\", \"inbound_nodes\": [[[\"Transformer-5-MultiHeadSelfAttention-Norm\", 0, 0, {}], [\"Transformer-5-FeedForward-Dropout\", 0, 0, {}]]]}, {\"class_name\": \"LayerNormalization\", \"config\": {\"name\": \"Transformer-5-FeedForward-Norm\", \"trainable\": false, \"dtype\": \"float32\", \"center\": true, \"scale\": true, \"epsilon\": 1e-12, \"conditional\": false, \"hidden_units\": null, \"hidden_activation\": \"linear\", \"hidden_initializer\": {\"class_name\": \"TruncatedNormal\", \"config\": {\"mean\": 0.0, \"stddev\": 0.02, \"seed\": null}}}, \"name\": \"Transformer-5-FeedForward-Norm\", \"inbound_nodes\": [[[\"Transformer-5-FeedForward-Add\", 0, 0, {}]]]}, {\"class_name\": \"MultiHeadAttention\", \"config\": {\"name\": \"Transformer-6-MultiHeadSelfAttention\", \"trainable\": false, \"dtype\": \"float32\", \"heads\": 12, \"head_size\": 64, \"key_size\": 64, \"use_bias\": true, \"attention_scale\": true, \"kernel_initializer\": {\"class_name\": \"TruncatedNormal\", \"config\": {\"mean\": 0.0, \"stddev\": 0.02, \"seed\": null}}}, \"name\": \"Transformer-6-MultiHeadSelfAttention\", \"inbound_nodes\": [[[\"Transformer-5-FeedForward-Norm\", 0, 0, {\"a_mask\": null}], [\"Transformer-5-FeedForward-Norm\", 0, 0, {\"a_mask\": null}], [\"Transformer-5-FeedForward-Norm\", 0, 0, {\"a_mask\": null}]]]}, {\"class_name\": \"Dropout\", \"config\": {\"name\": \"Transformer-6-MultiHeadSelfAttention-Dropout\", \"trainable\": false, \"dtype\": \"float32\", \"rate\": 0.1, \"noise_shape\": null, \"seed\": null}, \"name\": \"Transformer-6-MultiHeadSelfAttention-Dropout\", \"inbound_nodes\": [[[\"Transformer-6-MultiHeadSelfAttention\", 0, 0, {}]]]}, {\"class_name\": \"Add\", \"config\": {\"name\": \"Transformer-6-MultiHeadSelfAttention-Add\", \"trainable\": false, \"dtype\": \"float32\"}, \"name\": \"Transformer-6-MultiHeadSelfAttention-Add\", \"inbound_nodes\": [[[\"Transformer-5-FeedForward-Norm\", 0, 0, {}], [\"Transformer-6-MultiHeadSelfAttention-Dropout\", 0, 0, {}]]]}, {\"class_name\": \"LayerNormalization\", \"config\": {\"name\": \"Transformer-6-MultiHeadSelfAttention-Norm\", \"trainable\": false, \"dtype\": \"float32\", \"center\": true, \"scale\": true, \"epsilon\": 1e-12, \"conditional\": false, \"hidden_units\": null, \"hidden_activation\": \"linear\", \"hidden_initializer\": {\"class_name\": \"TruncatedNormal\", \"config\": {\"mean\": 0.0, \"stddev\": 0.02, \"seed\": null}}}, \"name\": \"Transformer-6-MultiHeadSelfAttention-Norm\", \"inbound_nodes\": [[[\"Transformer-6-MultiHeadSelfAttention-Add\", 0, 0, {}]]]}, {\"class_name\": \"FeedForward\", \"config\": {\"name\": \"Transformer-6-FeedForward\", \"trainable\": false, \"dtype\": \"float32\", \"units\": 3072, \"activation\": \"gelu_erf\", \"use_bias\": true, \"kernel_initializer\": {\"class_name\": \"TruncatedNormal\", \"config\": {\"mean\": 0.0, \"stddev\": 0.02, \"seed\": null}}}, \"name\": \"Transformer-6-FeedForward\", \"inbound_nodes\": [[[\"Transformer-6-MultiHeadSelfAttention-Norm\", 0, 0, {}]]]}, {\"class_name\": \"Dropout\", \"config\": {\"name\": \"Transformer-6-FeedForward-Dropout\", \"trainable\": false, \"dtype\": \"float32\", \"rate\": 0.1, \"noise_shape\": null, \"seed\": null}, \"name\": \"Transformer-6-FeedForward-Dropout\", \"inbound_nodes\": [[[\"Transformer-6-FeedForward\", 0, 0, {}]]]}, {\"class_name\": \"Add\", \"config\": {\"name\": \"Transformer-6-FeedForward-Add\", \"trainable\": false, \"dtype\": \"float32\"}, \"name\": \"Transformer-6-FeedForward-Add\", \"inbound_nodes\": [[[\"Transformer-6-MultiHeadSelfAttention-Norm\", 0, 0, {}], [\"Transformer-6-FeedForward-Dropout\", 0, 0, {}]]]}, {\"class_name\": \"LayerNormalization\", \"config\": {\"name\": \"Transformer-6-FeedForward-Norm\", \"trainable\": false, \"dtype\": \"float32\", \"center\": true, \"scale\": true, \"epsilon\": 1e-12, \"conditional\": false, \"hidden_units\": null, \"hidden_activation\": \"linear\", \"hidden_initializer\": {\"class_name\": \"TruncatedNormal\", \"config\": {\"mean\": 0.0, \"stddev\": 0.02, \"seed\": null}}}, \"name\": \"Transformer-6-FeedForward-Norm\", \"inbound_nodes\": [[[\"Transformer-6-FeedForward-Add\", 0, 0, {}]]]}, {\"class_name\": \"MultiHeadAttention\", \"config\": {\"name\": \"Transformer-7-MultiHeadSelfAttention\", \"trainable\": false, \"dtype\": \"float32\", \"heads\": 12, \"head_size\": 64, \"key_size\": 64, \"use_bias\": true, \"attention_scale\": true, \"kernel_initializer\": {\"class_name\": \"TruncatedNormal\", \"config\": {\"mean\": 0.0, \"stddev\": 0.02, \"seed\": null}}}, \"name\": \"Transformer-7-MultiHeadSelfAttention\", \"inbound_nodes\": [[[\"Transformer-6-FeedForward-Norm\", 0, 0, {\"a_mask\": null}], [\"Transformer-6-FeedForward-Norm\", 0, 0, {\"a_mask\": null}], [\"Transformer-6-FeedForward-Norm\", 0, 0, {\"a_mask\": null}]]]}, {\"class_name\": \"Dropout\", \"config\": {\"name\": \"Transformer-7-MultiHeadSelfAttention-Dropout\", \"trainable\": false, \"dtype\": \"float32\", \"rate\": 0.1, \"noise_shape\": null, \"seed\": null}, \"name\": \"Transformer-7-MultiHeadSelfAttention-Dropout\", \"inbound_nodes\": [[[\"Transformer-7-MultiHeadSelfAttention\", 0, 0, {}]]]}, {\"class_name\": \"Add\", \"config\": {\"name\": \"Transformer-7-MultiHeadSelfAttention-Add\", \"trainable\": false, \"dtype\": \"float32\"}, \"name\": \"Transformer-7-MultiHeadSelfAttention-Add\", \"inbound_nodes\": [[[\"Transformer-6-FeedForward-Norm\", 0, 0, {}], [\"Transformer-7-MultiHeadSelfAttention-Dropout\", 0, 0, {}]]]}, {\"class_name\": \"LayerNormalization\", \"config\": {\"name\": \"Transformer-7-MultiHeadSelfAttention-Norm\", \"trainable\": false, \"dtype\": \"float32\", \"center\": true, \"scale\": true, \"epsilon\": 1e-12, \"conditional\": false, \"hidden_units\": null, \"hidden_activation\": \"linear\", \"hidden_initializer\": {\"class_name\": \"TruncatedNormal\", \"config\": {\"mean\": 0.0, \"stddev\": 0.02, \"seed\": null}}}, \"name\": \"Transformer-7-MultiHeadSelfAttention-Norm\", \"inbound_nodes\": [[[\"Transformer-7-MultiHeadSelfAttention-Add\", 0, 0, {}]]]}, {\"class_name\": \"FeedForward\", \"config\": {\"name\": \"Transformer-7-FeedForward\", \"trainable\": false, \"dtype\": \"float32\", \"units\": 3072, \"activation\": \"gelu_erf\", \"use_bias\": true, \"kernel_initializer\": {\"class_name\": \"TruncatedNormal\", \"config\": {\"mean\": 0.0, \"stddev\": 0.02, \"seed\": null}}}, \"name\": \"Transformer-7-FeedForward\", \"inbound_nodes\": [[[\"Transformer-7-MultiHeadSelfAttention-Norm\", 0, 0, {}]]]}, {\"class_name\": \"Dropout\", \"config\": {\"name\": \"Transformer-7-FeedForward-Dropout\", \"trainable\": false, \"dtype\": \"float32\", \"rate\": 0.1, \"noise_shape\": null, \"seed\": null}, \"name\": \"Transformer-7-FeedForward-Dropout\", \"inbound_nodes\": [[[\"Transformer-7-FeedForward\", 0, 0, {}]]]}, {\"class_name\": \"Add\", \"config\": {\"name\": \"Transformer-7-FeedForward-Add\", \"trainable\": false, \"dtype\": \"float32\"}, \"name\": \"Transformer-7-FeedForward-Add\", \"inbound_nodes\": [[[\"Transformer-7-MultiHeadSelfAttention-Norm\", 0, 0, {}], [\"Transformer-7-FeedForward-Dropout\", 0, 0, {}]]]}, {\"class_name\": \"LayerNormalization\", \"config\": {\"name\": \"Transformer-7-FeedForward-Norm\", \"trainable\": false, \"dtype\": \"float32\", \"center\": true, \"scale\": true, \"epsilon\": 1e-12, \"conditional\": false, \"hidden_units\": null, \"hidden_activation\": \"linear\", \"hidden_initializer\": {\"class_name\": \"TruncatedNormal\", \"config\": {\"mean\": 0.0, \"stddev\": 0.02, \"seed\": null}}}, \"name\": \"Transformer-7-FeedForward-Norm\", \"inbound_nodes\": [[[\"Transformer-7-FeedForward-Add\", 0, 0, {}]]]}, {\"class_name\": \"MultiHeadAttention\", \"config\": {\"name\": \"Transformer-8-MultiHeadSelfAttention\", \"trainable\": false, \"dtype\": \"float32\", \"heads\": 12, \"head_size\": 64, \"key_size\": 64, \"use_bias\": true, \"attention_scale\": true, \"kernel_initializer\": {\"class_name\": \"TruncatedNormal\", \"config\": {\"mean\": 0.0, \"stddev\": 0.02, \"seed\": null}}}, \"name\": \"Transformer-8-MultiHeadSelfAttention\", \"inbound_nodes\": [[[\"Transformer-7-FeedForward-Norm\", 0, 0, {\"a_mask\": null}], [\"Transformer-7-FeedForward-Norm\", 0, 0, {\"a_mask\": null}], [\"Transformer-7-FeedForward-Norm\", 0, 0, {\"a_mask\": null}]]]}, {\"class_name\": \"Dropout\", \"config\": {\"name\": \"Transformer-8-MultiHeadSelfAttention-Dropout\", \"trainable\": false, \"dtype\": \"float32\", \"rate\": 0.1, \"noise_shape\": null, \"seed\": null}, \"name\": \"Transformer-8-MultiHeadSelfAttention-Dropout\", \"inbound_nodes\": [[[\"Transformer-8-MultiHeadSelfAttention\", 0, 0, {}]]]}, {\"class_name\": \"Add\", \"config\": {\"name\": \"Transformer-8-MultiHeadSelfAttention-Add\", \"trainable\": false, \"dtype\": \"float32\"}, \"name\": \"Transformer-8-MultiHeadSelfAttention-Add\", \"inbound_nodes\": [[[\"Transformer-7-FeedForward-Norm\", 0, 0, {}], [\"Transformer-8-MultiHeadSelfAttention-Dropout\", 0, 0, {}]]]}, {\"class_name\": \"LayerNormalization\", \"config\": {\"name\": \"Transformer-8-MultiHeadSelfAttention-Norm\", \"trainable\": false, \"dtype\": \"float32\", \"center\": true, \"scale\": true, \"epsilon\": 1e-12, \"conditional\": false, \"hidden_units\": null, \"hidden_activation\": \"linear\", \"hidden_initializer\": {\"class_name\": \"TruncatedNormal\", \"config\": {\"mean\": 0.0, \"stddev\": 0.02, \"seed\": null}}}, \"name\": \"Transformer-8-MultiHeadSelfAttention-Norm\", \"inbound_nodes\": [[[\"Transformer-8-MultiHeadSelfAttention-Add\", 0, 0, {}]]]}, {\"class_name\": \"FeedForward\", \"config\": {\"name\": \"Transformer-8-FeedForward\", \"trainable\": false, \"dtype\": \"float32\", \"units\": 3072, \"activation\": \"gelu_erf\", \"use_bias\": true, \"kernel_initializer\": {\"class_name\": \"TruncatedNormal\", \"config\": {\"mean\": 0.0, \"stddev\": 0.02, \"seed\": null}}}, \"name\": \"Transformer-8-FeedForward\", \"inbound_nodes\": [[[\"Transformer-8-MultiHeadSelfAttention-Norm\", 0, 0, {}]]]}, {\"class_name\": \"Dropout\", \"config\": {\"name\": \"Transformer-8-FeedForward-Dropout\", \"trainable\": false, \"dtype\": \"float32\", \"rate\": 0.1, \"noise_shape\": null, \"seed\": null}, \"name\": \"Transformer-8-FeedForward-Dropout\", \"inbound_nodes\": [[[\"Transformer-8-FeedForward\", 0, 0, {}]]]}, {\"class_name\": \"Add\", \"config\": {\"name\": \"Transformer-8-FeedForward-Add\", \"trainable\": false, \"dtype\": \"float32\"}, \"name\": \"Transformer-8-FeedForward-Add\", \"inbound_nodes\": [[[\"Transformer-8-MultiHeadSelfAttention-Norm\", 0, 0, {}], [\"Transformer-8-FeedForward-Dropout\", 0, 0, {}]]]}, {\"class_name\": \"LayerNormalization\", \"config\": {\"name\": \"Transformer-8-FeedForward-Norm\", \"trainable\": false, \"dtype\": \"float32\", \"center\": true, \"scale\": true, \"epsilon\": 1e-12, \"conditional\": false, \"hidden_units\": null, \"hidden_activation\": \"linear\", \"hidden_initializer\": {\"class_name\": \"TruncatedNormal\", \"config\": {\"mean\": 0.0, \"stddev\": 0.02, \"seed\": null}}}, \"name\": \"Transformer-8-FeedForward-Norm\", \"inbound_nodes\": [[[\"Transformer-8-FeedForward-Add\", 0, 0, {}]]]}, {\"class_name\": \"MultiHeadAttention\", \"config\": {\"name\": \"Transformer-9-MultiHeadSelfAttention\", \"trainable\": false, \"dtype\": \"float32\", \"heads\": 12, \"head_size\": 64, \"key_size\": 64, \"use_bias\": true, \"attention_scale\": true, \"kernel_initializer\": {\"class_name\": \"TruncatedNormal\", \"config\": {\"mean\": 0.0, \"stddev\": 0.02, \"seed\": null}}}, \"name\": \"Transformer-9-MultiHeadSelfAttention\", \"inbound_nodes\": [[[\"Transformer-8-FeedForward-Norm\", 0, 0, {\"a_mask\": null}], [\"Transformer-8-FeedForward-Norm\", 0, 0, {\"a_mask\": null}], [\"Transformer-8-FeedForward-Norm\", 0, 0, {\"a_mask\": null}]]]}, {\"class_name\": \"Dropout\", \"config\": {\"name\": \"Transformer-9-MultiHeadSelfAttention-Dropout\", \"trainable\": false, \"dtype\": \"float32\", \"rate\": 0.1, \"noise_shape\": null, \"seed\": null}, \"name\": \"Transformer-9-MultiHeadSelfAttention-Dropout\", \"inbound_nodes\": [[[\"Transformer-9-MultiHeadSelfAttention\", 0, 0, {}]]]}, {\"class_name\": \"Add\", \"config\": {\"name\": \"Transformer-9-MultiHeadSelfAttention-Add\", \"trainable\": false, \"dtype\": \"float32\"}, \"name\": \"Transformer-9-MultiHeadSelfAttention-Add\", \"inbound_nodes\": [[[\"Transformer-8-FeedForward-Norm\", 0, 0, {}], [\"Transformer-9-MultiHeadSelfAttention-Dropout\", 0, 0, {}]]]}, {\"class_name\": \"LayerNormalization\", \"config\": {\"name\": \"Transformer-9-MultiHeadSelfAttention-Norm\", \"trainable\": false, \"dtype\": \"float32\", \"center\": true, \"scale\": true, \"epsilon\": 1e-12, \"conditional\": false, \"hidden_units\": null, \"hidden_activation\": \"linear\", \"hidden_initializer\": {\"class_name\": \"TruncatedNormal\", \"config\": {\"mean\": 0.0, \"stddev\": 0.02, \"seed\": null}}}, \"name\": \"Transformer-9-MultiHeadSelfAttention-Norm\", \"inbound_nodes\": [[[\"Transformer-9-MultiHeadSelfAttention-Add\", 0, 0, {}]]]}, {\"class_name\": \"FeedForward\", \"config\": {\"name\": \"Transformer-9-FeedForward\", \"trainable\": false, \"dtype\": \"float32\", \"units\": 3072, \"activation\": \"gelu_erf\", \"use_bias\": true, \"kernel_initializer\": {\"class_name\": \"TruncatedNormal\", \"config\": {\"mean\": 0.0, \"stddev\": 0.02, \"seed\": null}}}, \"name\": \"Transformer-9-FeedForward\", \"inbound_nodes\": [[[\"Transformer-9-MultiHeadSelfAttention-Norm\", 0, 0, {}]]]}, {\"class_name\": \"Dropout\", \"config\": {\"name\": \"Transformer-9-FeedForward-Dropout\", \"trainable\": false, \"dtype\": \"float32\", \"rate\": 0.1, \"noise_shape\": null, \"seed\": null}, \"name\": \"Transformer-9-FeedForward-Dropout\", \"inbound_nodes\": [[[\"Transformer-9-FeedForward\", 0, 0, {}]]]}, {\"class_name\": \"Add\", \"config\": {\"name\": \"Transformer-9-FeedForward-Add\", \"trainable\": false, \"dtype\": \"float32\"}, \"name\": \"Transformer-9-FeedForward-Add\", \"inbound_nodes\": [[[\"Transformer-9-MultiHeadSelfAttention-Norm\", 0, 0, {}], [\"Transformer-9-FeedForward-Dropout\", 0, 0, {}]]]}, {\"class_name\": \"LayerNormalization\", \"config\": {\"name\": \"Transformer-9-FeedForward-Norm\", \"trainable\": false, \"dtype\": \"float32\", \"center\": true, \"scale\": true, \"epsilon\": 1e-12, \"conditional\": false, \"hidden_units\": null, \"hidden_activation\": \"linear\", \"hidden_initializer\": {\"class_name\": \"TruncatedNormal\", \"config\": {\"mean\": 0.0, \"stddev\": 0.02, \"seed\": null}}}, \"name\": \"Transformer-9-FeedForward-Norm\", \"inbound_nodes\": [[[\"Transformer-9-FeedForward-Add\", 0, 0, {}]]]}, {\"class_name\": \"MultiHeadAttention\", \"config\": {\"name\": \"Transformer-10-MultiHeadSelfAttention\", \"trainable\": false, \"dtype\": \"float32\", \"heads\": 12, \"head_size\": 64, \"key_size\": 64, \"use_bias\": true, \"attention_scale\": true, \"kernel_initializer\": {\"class_name\": \"TruncatedNormal\", \"config\": {\"mean\": 0.0, \"stddev\": 0.02, \"seed\": null}}}, \"name\": \"Transformer-10-MultiHeadSelfAttention\", \"inbound_nodes\": [[[\"Transformer-9-FeedForward-Norm\", 0, 0, {\"a_mask\": null}], [\"Transformer-9-FeedForward-Norm\", 0, 0, {\"a_mask\": null}], [\"Transformer-9-FeedForward-Norm\", 0, 0, {\"a_mask\": null}]]]}, {\"class_name\": \"Dropout\", \"config\": {\"name\": \"Transformer-10-MultiHeadSelfAttention-Dropout\", \"trainable\": false, \"dtype\": \"float32\", \"rate\": 0.1, \"noise_shape\": null, \"seed\": null}, \"name\": \"Transformer-10-MultiHeadSelfAttention-Dropout\", \"inbound_nodes\": [[[\"Transformer-10-MultiHeadSelfAttention\", 0, 0, {}]]]}, {\"class_name\": \"Add\", \"config\": {\"name\": \"Transformer-10-MultiHeadSelfAttention-Add\", \"trainable\": false, \"dtype\": \"float32\"}, \"name\": \"Transformer-10-MultiHeadSelfAttention-Add\", \"inbound_nodes\": [[[\"Transformer-9-FeedForward-Norm\", 0, 0, {}], [\"Transformer-10-MultiHeadSelfAttention-Dropout\", 0, 0, {}]]]}, {\"class_name\": \"LayerNormalization\", \"config\": {\"name\": \"Transformer-10-MultiHeadSelfAttention-Norm\", \"trainable\": false, \"dtype\": \"float32\", \"center\": true, \"scale\": true, \"epsilon\": 1e-12, \"conditional\": false, \"hidden_units\": null, \"hidden_activation\": \"linear\", \"hidden_initializer\": {\"class_name\": \"TruncatedNormal\", \"config\": {\"mean\": 0.0, \"stddev\": 0.02, \"seed\": null}}}, \"name\": \"Transformer-10-MultiHeadSelfAttention-Norm\", \"inbound_nodes\": [[[\"Transformer-10-MultiHeadSelfAttention-Add\", 0, 0, {}]]]}, {\"class_name\": \"FeedForward\", \"config\": {\"name\": \"Transformer-10-FeedForward\", \"trainable\": false, \"dtype\": \"float32\", \"units\": 3072, \"activation\": \"gelu_erf\", \"use_bias\": true, \"kernel_initializer\": {\"class_name\": \"TruncatedNormal\", \"config\": {\"mean\": 0.0, \"stddev\": 0.02, \"seed\": null}}}, \"name\": \"Transformer-10-FeedForward\", \"inbound_nodes\": [[[\"Transformer-10-MultiHeadSelfAttention-Norm\", 0, 0, {}]]]}, {\"class_name\": \"Dropout\", \"config\": {\"name\": \"Transformer-10-FeedForward-Dropout\", \"trainable\": false, \"dtype\": \"float32\", \"rate\": 0.1, \"noise_shape\": null, \"seed\": null}, \"name\": \"Transformer-10-FeedForward-Dropout\", \"inbound_nodes\": [[[\"Transformer-10-FeedForward\", 0, 0, {}]]]}, {\"class_name\": \"Add\", \"config\": {\"name\": \"Transformer-10-FeedForward-Add\", \"trainable\": false, \"dtype\": \"float32\"}, \"name\": \"Transformer-10-FeedForward-Add\", \"inbound_nodes\": [[[\"Transformer-10-MultiHeadSelfAttention-Norm\", 0, 0, {}], [\"Transformer-10-FeedForward-Dropout\", 0, 0, {}]]]}, {\"class_name\": \"LayerNormalization\", \"config\": {\"name\": \"Transformer-10-FeedForward-Norm\", \"trainable\": false, \"dtype\": \"float32\", \"center\": true, \"scale\": true, \"epsilon\": 1e-12, \"conditional\": false, \"hidden_units\": null, \"hidden_activation\": \"linear\", \"hidden_initializer\": {\"class_name\": \"TruncatedNormal\", \"config\": {\"mean\": 0.0, \"stddev\": 0.02, \"seed\": null}}}, \"name\": \"Transformer-10-FeedForward-Norm\", \"inbound_nodes\": [[[\"Transformer-10-FeedForward-Add\", 0, 0, {}]]]}, {\"class_name\": \"MultiHeadAttention\", \"config\": {\"name\": \"Transformer-11-MultiHeadSelfAttention\", \"trainable\": false, \"dtype\": \"float32\", \"heads\": 12, \"head_size\": 64, \"key_size\": 64, \"use_bias\": true, \"attention_scale\": true, \"kernel_initializer\": {\"class_name\": \"TruncatedNormal\", \"config\": {\"mean\": 0.0, \"stddev\": 0.02, \"seed\": null}}}, \"name\": \"Transformer-11-MultiHeadSelfAttention\", \"inbound_nodes\": [[[\"Transformer-10-FeedForward-Norm\", 0, 0, {\"a_mask\": null}], [\"Transformer-10-FeedForward-Norm\", 0, 0, {\"a_mask\": null}], [\"Transformer-10-FeedForward-Norm\", 0, 0, {\"a_mask\": null}]]]}, {\"class_name\": \"Dropout\", \"config\": {\"name\": \"Transformer-11-MultiHeadSelfAttention-Dropout\", \"trainable\": false, \"dtype\": \"float32\", \"rate\": 0.1, \"noise_shape\": null, \"seed\": null}, \"name\": \"Transformer-11-MultiHeadSelfAttention-Dropout\", \"inbound_nodes\": [[[\"Transformer-11-MultiHeadSelfAttention\", 0, 0, {}]]]}, {\"class_name\": \"Add\", \"config\": {\"name\": \"Transformer-11-MultiHeadSelfAttention-Add\", \"trainable\": false, \"dtype\": \"float32\"}, \"name\": \"Transformer-11-MultiHeadSelfAttention-Add\", \"inbound_nodes\": [[[\"Transformer-10-FeedForward-Norm\", 0, 0, {}], [\"Transformer-11-MultiHeadSelfAttention-Dropout\", 0, 0, {}]]]}, {\"class_name\": \"LayerNormalization\", \"config\": {\"name\": \"Transformer-11-MultiHeadSelfAttention-Norm\", \"trainable\": false, \"dtype\": \"float32\", \"center\": true, \"scale\": true, \"epsilon\": 1e-12, \"conditional\": false, \"hidden_units\": null, \"hidden_activation\": \"linear\", \"hidden_initializer\": {\"class_name\": \"TruncatedNormal\", \"config\": {\"mean\": 0.0, \"stddev\": 0.02, \"seed\": null}}}, \"name\": \"Transformer-11-MultiHeadSelfAttention-Norm\", \"inbound_nodes\": [[[\"Transformer-11-MultiHeadSelfAttention-Add\", 0, 0, {}]]]}, {\"class_name\": \"FeedForward\", \"config\": {\"name\": \"Transformer-11-FeedForward\", \"trainable\": false, \"dtype\": \"float32\", \"units\": 3072, \"activation\": \"gelu_erf\", \"use_bias\": true, \"kernel_initializer\": {\"class_name\": \"TruncatedNormal\", \"config\": {\"mean\": 0.0, \"stddev\": 0.02, \"seed\": null}}}, \"name\": \"Transformer-11-FeedForward\", \"inbound_nodes\": [[[\"Transformer-11-MultiHeadSelfAttention-Norm\", 0, 0, {}]]]}, {\"class_name\": \"Dropout\", \"config\": {\"name\": \"Transformer-11-FeedForward-Dropout\", \"trainable\": false, \"dtype\": \"float32\", \"rate\": 0.1, \"noise_shape\": null, \"seed\": null}, \"name\": \"Transformer-11-FeedForward-Dropout\", \"inbound_nodes\": [[[\"Transformer-11-FeedForward\", 0, 0, {}]]]}, {\"class_name\": \"Add\", \"config\": {\"name\": \"Transformer-11-FeedForward-Add\", \"trainable\": false, \"dtype\": \"float32\"}, \"name\": \"Transformer-11-FeedForward-Add\", \"inbound_nodes\": [[[\"Transformer-11-MultiHeadSelfAttention-Norm\", 0, 0, {}], [\"Transformer-11-FeedForward-Dropout\", 0, 0, {}]]]}, {\"class_name\": \"LayerNormalization\", \"config\": {\"name\": \"Transformer-11-FeedForward-Norm\", \"trainable\": false, \"dtype\": \"float32\", \"center\": true, \"scale\": true, \"epsilon\": 1e-12, \"conditional\": false, \"hidden_units\": null, \"hidden_activation\": \"linear\", \"hidden_initializer\": {\"class_name\": \"TruncatedNormal\", \"config\": {\"mean\": 0.0, \"stddev\": 0.02, \"seed\": null}}}, \"name\": \"Transformer-11-FeedForward-Norm\", \"inbound_nodes\": [[[\"Transformer-11-FeedForward-Add\", 0, 0, {}]]]}, {\"class_name\": \"Bidirectional\", \"config\": {\"name\": \"bidirectional\", \"trainable\": true, \"dtype\": \"float32\", \"layer\": {\"class_name\": \"LSTM\", \"config\": {\"name\": \"lstm\", \"trainable\": true, \"dtype\": \"float32\", \"return_sequences\": false, \"return_state\": false, \"go_backwards\": false, \"stateful\": false, \"unroll\": false, \"time_major\": false, \"units\": 128, \"activation\": \"tanh\", \"recurrent_activation\": \"sigmoid\", \"use_bias\": true, \"kernel_initializer\": {\"class_name\": \"GlorotUniform\", \"config\": {\"seed\": null}}, \"recurrent_initializer\": {\"class_name\": \"Orthogonal\", \"config\": {\"gain\": 1.0, \"seed\": null}}, \"bias_initializer\": {\"class_name\": \"Zeros\", \"config\": {}}, \"unit_forget_bias\": true, \"kernel_regularizer\": null, \"recurrent_regularizer\": null, \"bias_regularizer\": null, \"activity_regularizer\": null, \"kernel_constraint\": null, \"recurrent_constraint\": null, \"bias_constraint\": null, \"dropout\": 0.0, \"recurrent_dropout\": 0.0, \"implementation\": 2}}, \"merge_mode\": \"concat\"}, \"name\": \"bidirectional\", \"inbound_nodes\": [[[\"Transformer-11-FeedForward-Norm\", 0, 0, {}]]]}, {\"class_name\": \"Dense\", \"config\": {\"name\": \"dense\", \"trainable\": true, \"dtype\": \"float32\", \"units\": 7, \"activation\": \"linear\", \"use_bias\": true, \"kernel_initializer\": {\"class_name\": \"GlorotUniform\", \"config\": {\"seed\": null}}, \"bias_initializer\": {\"class_name\": \"Zeros\", \"config\": {}}, \"kernel_regularizer\": null, \"bias_regularizer\": null, \"activity_regularizer\": null, \"kernel_constraint\": null, \"bias_constraint\": null}, \"name\": \"dense\", \"inbound_nodes\": [[[\"bidirectional\", 0, 0, {}]]]}, {\"class_name\": \"Activation\", \"config\": {\"name\": \"activation\", \"trainable\": true, \"dtype\": \"float32\", \"activation\": \"softmax\"}, \"name\": \"activation\", \"inbound_nodes\": [[[\"dense\", 0, 0, {}]]]}], \"input_layers\": [[\"Input-Token\", 0, 0], [\"Input-Segment\", 0, 0]], \"output_layers\": [[\"activation\", 0, 0]]}, \"keras_version\": \"2.4.0\", \"backend\": \"tensorflow\"}\n"
          ],
          "name": "stdout"
        }
      ]
    },
    {
      "cell_type": "markdown",
      "metadata": {
        "id": "RSFLRBZeq9bC"
      },
      "source": [
        "## Prediction"
      ]
    },
    {
      "cell_type": "code",
      "metadata": {
        "id": "eNh5BUVDSVPf"
      },
      "source": [
        "x = predict('As far as we know, our study is the first in which the ABMequation of Forbes and Welle3 has been applied to propofolbolus dosing. The ABM has previously been applied to dosescaling of propofol infusion rates administered to obese patientsby manual control12 and by target control13,14 with varyingdegrees of success. However, with regard to propofol infusions,allometric scaling of pharmacokinetic parameters has recentlyproved to be superior.15Drug concentration-time profiles during the first few minutesthat follow rapid intravenous injection cannot be described bythe multicompartment, mammillary pharmacokinetic modelsthat are successfully employed in target-controlled infusionpumps.16 Several shortcomings include the assumption thatthe central apparent volume of distribution is a “well stirred ”compartment into which drug is instantaneously distributed upon injection. In reality, the events are more complex.')"
      ],
      "execution_count": 22,
      "outputs": []
    },
    {
      "cell_type": "code",
      "metadata": {
        "id": "H2gZk5o1Q0mm",
        "outputId": "5f310f61-e808-4943-8b2f-b34585ea26ee",
        "colab": {
          "base_uri": "https://localhost:8080/",
          "height": 328
        }
      },
      "source": [
        "predicted_class = loaded_model.predict(x)"
      ],
      "execution_count": 23,
      "outputs": [
        {
          "output_type": "stream",
          "text": [
            "2020-10-14 15:19:44,219 [WARNING] kashgari - Sequence length is None, will use the max length of the samples, which is 76\n",
            "2020-10-14 15:19:44,224 [DEBUG] kashgari - predict input shape (2, 1, 76) x: \n",
            "(array([[  101,  2521,  2113,   100,  2034,   100,   100,   100,   100,\n",
            "          100, 13004,   100,  3025,   100,   100,   100,   100,  3446,\n",
            "          100,   100,   100,  6410,   100,  4539,   100,   100,  3112,\n",
            "          100,  7634,   100,   100,   100,  4094,   100,   100,   100,\n",
            "          100,   100,   100,  2034,   100,  3582,  5915,   100,   100,\n",
            "          100,   100,   100,   100,   100,   100,  3112, 12666,   100,\n",
            "          100,   100,   100,   100,   100,   100,  2430,   100,   100,\n",
            "          100,  2092, 16130,   100,  4319,   100,   100,  2588,   100,\n",
            "          100,  2724,  3375,   102]], dtype=int32), array([[0, 0, 0, 0, 0, 0, 0, 0, 0, 0, 0, 0, 0, 0, 0, 0, 0, 0, 0, 0, 0, 0,\n",
            "        0, 0, 0, 0, 0, 0, 0, 0, 0, 0, 0, 0, 0, 0, 0, 0, 0, 0, 0, 0, 0, 0,\n",
            "        0, 0, 0, 0, 0, 0, 0, 0, 0, 0, 0, 0, 0, 0, 0, 0, 0, 0, 0, 0, 0, 0,\n",
            "        0, 0, 0, 0, 0, 0, 0, 0, 0, 0]], dtype=int32))\n",
            "2020-10-14 15:19:54,904 [DEBUG] kashgari - predict output shape (1, 7)\n",
            "2020-10-14 15:19:54,905 [DEBUG] kashgari - predict output argmax: [2]\n"
          ],
          "name": "stderr"
        }
      ]
    },
    {
      "cell_type": "code",
      "metadata": {
        "id": "sw9tJfRkoJk5",
        "outputId": "d624d35d-a844-4b6d-d076-9b0739a27579",
        "colab": {
          "base_uri": "https://localhost:8080/",
          "height": 35
        }
      },
      "source": [
        "print(predicted_class)"
      ],
      "execution_count": 24,
      "outputs": [
        {
          "output_type": "stream",
          "text": [
            "['medical']\n"
          ],
          "name": "stdout"
        }
      ]
    },
    {
      "cell_type": "code",
      "metadata": {
        "id": "8RHtlRIHrROn"
      },
      "source": [
        ""
      ],
      "execution_count": 24,
      "outputs": []
    }
  ]
}
